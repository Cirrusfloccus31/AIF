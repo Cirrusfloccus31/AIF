{
  "cells": [
    {
      "cell_type": "markdown",
      "metadata": {
        "id": "eVNtZAJ7wZDh"
      },
      "source": [
        "In this practical session, you will implement different strategies to build a recommender system."
      ]
    },
    {
      "cell_type": "markdown",
      "metadata": {
        "id": "SkXGEpy55hXT"
      },
      "source": [
        "# Dataset\n",
        "\n"
      ]
    },
    {
      "cell_type": "markdown",
      "metadata": {
        "id": "I71b3ARWZId3"
      },
      "source": [
        "We will be utilizing 'The Movie Dataset' hosted on Kaggle, featuring comprehensive metadata for 45,000 movies listed in the Full MovieLens Dataset (accessible here: [Full MovieLens Dataset](https://grouplens.org/datasets/movielens/)). The dataset encompasses films released up until July 2017 and includes a variety of data points such as cast, crew, plot keywords, budget, revenue, posters, release dates, languages, production companies, countries, as well as TMDB vote counts and vote averages.\n",
        "\n",
        "Additionally, this dataset encompasses 26 million ratings from 270,000 users across all 45,000 movies. These ratings, ranging from 1 to 5, are sourced directly from the official GroupLens website.\n",
        "\n",
        "To access this dataset, a [Kaggle](https://www.kaggle.com/) account is required. After logging into Kaggle, navigate to your account settings and scroll to the API section to generate a new API token. This token will facilitate the direct download of the dataset via the Kaggle library in your notebook.\n",
        "\n",
        "![Instructions for generating a Kaggle API token](https://drive.google.com/uc?export=view&id=1YcSTHD_FGrwDKaaLk6T9Gsdte8TKuPCt)\n",
        "\n",
        "Now, you can proceed to install the Kaggle library in your notebook, which allows for the dataset to be downloaded directly.\n"
      ]
    },
    {
      "cell_type": "code",
      "execution_count": 1,
      "metadata": {
        "id": "czuGtQuDRTIM",
        "colab": {
          "base_uri": "https://localhost:8080/"
        },
        "outputId": "ce9c15c0-4012-420f-899a-1feab64f563b"
      },
      "outputs": [
        {
          "output_type": "stream",
          "name": "stdout",
          "text": [
            "Requirement already satisfied: kaggle in /usr/local/lib/python3.10/dist-packages (1.6.17)\n",
            "Requirement already satisfied: six>=1.10 in /usr/local/lib/python3.10/dist-packages (from kaggle) (1.16.0)\n",
            "Requirement already satisfied: certifi>=2023.7.22 in /usr/local/lib/python3.10/dist-packages (from kaggle) (2024.8.30)\n",
            "Requirement already satisfied: python-dateutil in /usr/local/lib/python3.10/dist-packages (from kaggle) (2.8.2)\n",
            "Requirement already satisfied: requests in /usr/local/lib/python3.10/dist-packages (from kaggle) (2.32.3)\n",
            "Requirement already satisfied: tqdm in /usr/local/lib/python3.10/dist-packages (from kaggle) (4.66.6)\n",
            "Requirement already satisfied: python-slugify in /usr/local/lib/python3.10/dist-packages (from kaggle) (8.0.4)\n",
            "Requirement already satisfied: urllib3 in /usr/local/lib/python3.10/dist-packages (from kaggle) (2.2.3)\n",
            "Requirement already satisfied: bleach in /usr/local/lib/python3.10/dist-packages (from kaggle) (6.2.0)\n",
            "Requirement already satisfied: webencodings in /usr/local/lib/python3.10/dist-packages (from bleach->kaggle) (0.5.1)\n",
            "Requirement already satisfied: text-unidecode>=1.3 in /usr/local/lib/python3.10/dist-packages (from python-slugify->kaggle) (1.3)\n",
            "Requirement already satisfied: charset-normalizer<4,>=2 in /usr/local/lib/python3.10/dist-packages (from requests->kaggle) (3.4.0)\n",
            "Requirement already satisfied: idna<4,>=2.5 in /usr/local/lib/python3.10/dist-packages (from requests->kaggle) (3.10)\n"
          ]
        }
      ],
      "source": [
        "!pip install kaggle"
      ]
    },
    {
      "cell_type": "markdown",
      "metadata": {
        "id": "Kq0iGNLdca65"
      },
      "source": [
        "Run the next cell to upload your token."
      ]
    },
    {
      "cell_type": "code",
      "execution_count": 2,
      "metadata": {
        "id": "X4O_t6ZDRza5",
        "colab": {
          "base_uri": "https://localhost:8080/",
          "height": 111
        },
        "outputId": "bf67c0a1-9ad1-40cf-cccf-8aeec7478864"
      },
      "outputs": [
        {
          "output_type": "display_data",
          "data": {
            "text/plain": [
              "<IPython.core.display.HTML object>"
            ],
            "text/html": [
              "\n",
              "     <input type=\"file\" id=\"files-e2529995-5368-4551-8fa9-bacc45ea6ac8\" name=\"files[]\" multiple disabled\n",
              "        style=\"border:none\" />\n",
              "     <output id=\"result-e2529995-5368-4551-8fa9-bacc45ea6ac8\">\n",
              "      Upload widget is only available when the cell has been executed in the\n",
              "      current browser session. Please rerun this cell to enable.\n",
              "      </output>\n",
              "      <script>// Copyright 2017 Google LLC\n",
              "//\n",
              "// Licensed under the Apache License, Version 2.0 (the \"License\");\n",
              "// you may not use this file except in compliance with the License.\n",
              "// You may obtain a copy of the License at\n",
              "//\n",
              "//      http://www.apache.org/licenses/LICENSE-2.0\n",
              "//\n",
              "// Unless required by applicable law or agreed to in writing, software\n",
              "// distributed under the License is distributed on an \"AS IS\" BASIS,\n",
              "// WITHOUT WARRANTIES OR CONDITIONS OF ANY KIND, either express or implied.\n",
              "// See the License for the specific language governing permissions and\n",
              "// limitations under the License.\n",
              "\n",
              "/**\n",
              " * @fileoverview Helpers for google.colab Python module.\n",
              " */\n",
              "(function(scope) {\n",
              "function span(text, styleAttributes = {}) {\n",
              "  const element = document.createElement('span');\n",
              "  element.textContent = text;\n",
              "  for (const key of Object.keys(styleAttributes)) {\n",
              "    element.style[key] = styleAttributes[key];\n",
              "  }\n",
              "  return element;\n",
              "}\n",
              "\n",
              "// Max number of bytes which will be uploaded at a time.\n",
              "const MAX_PAYLOAD_SIZE = 100 * 1024;\n",
              "\n",
              "function _uploadFiles(inputId, outputId) {\n",
              "  const steps = uploadFilesStep(inputId, outputId);\n",
              "  const outputElement = document.getElementById(outputId);\n",
              "  // Cache steps on the outputElement to make it available for the next call\n",
              "  // to uploadFilesContinue from Python.\n",
              "  outputElement.steps = steps;\n",
              "\n",
              "  return _uploadFilesContinue(outputId);\n",
              "}\n",
              "\n",
              "// This is roughly an async generator (not supported in the browser yet),\n",
              "// where there are multiple asynchronous steps and the Python side is going\n",
              "// to poll for completion of each step.\n",
              "// This uses a Promise to block the python side on completion of each step,\n",
              "// then passes the result of the previous step as the input to the next step.\n",
              "function _uploadFilesContinue(outputId) {\n",
              "  const outputElement = document.getElementById(outputId);\n",
              "  const steps = outputElement.steps;\n",
              "\n",
              "  const next = steps.next(outputElement.lastPromiseValue);\n",
              "  return Promise.resolve(next.value.promise).then((value) => {\n",
              "    // Cache the last promise value to make it available to the next\n",
              "    // step of the generator.\n",
              "    outputElement.lastPromiseValue = value;\n",
              "    return next.value.response;\n",
              "  });\n",
              "}\n",
              "\n",
              "/**\n",
              " * Generator function which is called between each async step of the upload\n",
              " * process.\n",
              " * @param {string} inputId Element ID of the input file picker element.\n",
              " * @param {string} outputId Element ID of the output display.\n",
              " * @return {!Iterable<!Object>} Iterable of next steps.\n",
              " */\n",
              "function* uploadFilesStep(inputId, outputId) {\n",
              "  const inputElement = document.getElementById(inputId);\n",
              "  inputElement.disabled = false;\n",
              "\n",
              "  const outputElement = document.getElementById(outputId);\n",
              "  outputElement.innerHTML = '';\n",
              "\n",
              "  const pickedPromise = new Promise((resolve) => {\n",
              "    inputElement.addEventListener('change', (e) => {\n",
              "      resolve(e.target.files);\n",
              "    });\n",
              "  });\n",
              "\n",
              "  const cancel = document.createElement('button');\n",
              "  inputElement.parentElement.appendChild(cancel);\n",
              "  cancel.textContent = 'Cancel upload';\n",
              "  const cancelPromise = new Promise((resolve) => {\n",
              "    cancel.onclick = () => {\n",
              "      resolve(null);\n",
              "    };\n",
              "  });\n",
              "\n",
              "  // Wait for the user to pick the files.\n",
              "  const files = yield {\n",
              "    promise: Promise.race([pickedPromise, cancelPromise]),\n",
              "    response: {\n",
              "      action: 'starting',\n",
              "    }\n",
              "  };\n",
              "\n",
              "  cancel.remove();\n",
              "\n",
              "  // Disable the input element since further picks are not allowed.\n",
              "  inputElement.disabled = true;\n",
              "\n",
              "  if (!files) {\n",
              "    return {\n",
              "      response: {\n",
              "        action: 'complete',\n",
              "      }\n",
              "    };\n",
              "  }\n",
              "\n",
              "  for (const file of files) {\n",
              "    const li = document.createElement('li');\n",
              "    li.append(span(file.name, {fontWeight: 'bold'}));\n",
              "    li.append(span(\n",
              "        `(${file.type || 'n/a'}) - ${file.size} bytes, ` +\n",
              "        `last modified: ${\n",
              "            file.lastModifiedDate ? file.lastModifiedDate.toLocaleDateString() :\n",
              "                                    'n/a'} - `));\n",
              "    const percent = span('0% done');\n",
              "    li.appendChild(percent);\n",
              "\n",
              "    outputElement.appendChild(li);\n",
              "\n",
              "    const fileDataPromise = new Promise((resolve) => {\n",
              "      const reader = new FileReader();\n",
              "      reader.onload = (e) => {\n",
              "        resolve(e.target.result);\n",
              "      };\n",
              "      reader.readAsArrayBuffer(file);\n",
              "    });\n",
              "    // Wait for the data to be ready.\n",
              "    let fileData = yield {\n",
              "      promise: fileDataPromise,\n",
              "      response: {\n",
              "        action: 'continue',\n",
              "      }\n",
              "    };\n",
              "\n",
              "    // Use a chunked sending to avoid message size limits. See b/62115660.\n",
              "    let position = 0;\n",
              "    do {\n",
              "      const length = Math.min(fileData.byteLength - position, MAX_PAYLOAD_SIZE);\n",
              "      const chunk = new Uint8Array(fileData, position, length);\n",
              "      position += length;\n",
              "\n",
              "      const base64 = btoa(String.fromCharCode.apply(null, chunk));\n",
              "      yield {\n",
              "        response: {\n",
              "          action: 'append',\n",
              "          file: file.name,\n",
              "          data: base64,\n",
              "        },\n",
              "      };\n",
              "\n",
              "      let percentDone = fileData.byteLength === 0 ?\n",
              "          100 :\n",
              "          Math.round((position / fileData.byteLength) * 100);\n",
              "      percent.textContent = `${percentDone}% done`;\n",
              "\n",
              "    } while (position < fileData.byteLength);\n",
              "  }\n",
              "\n",
              "  // All done.\n",
              "  yield {\n",
              "    response: {\n",
              "      action: 'complete',\n",
              "    }\n",
              "  };\n",
              "}\n",
              "\n",
              "scope.google = scope.google || {};\n",
              "scope.google.colab = scope.google.colab || {};\n",
              "scope.google.colab._files = {\n",
              "  _uploadFiles,\n",
              "  _uploadFilesContinue,\n",
              "};\n",
              "})(self);\n",
              "</script> "
            ]
          },
          "metadata": {}
        },
        {
          "output_type": "stream",
          "name": "stdout",
          "text": [
            "Saving kaggle.json to kaggle.json\n",
            "User uploaded file \"kaggle.json\" with length 67 bytes\n"
          ]
        }
      ],
      "source": [
        "from google.colab import files\n",
        "\n",
        "uploaded = files.upload()\n",
        "\n",
        "for fn in uploaded.keys():\n",
        "  print('User uploaded file \"{name}\" with length {length} bytes'.format(\n",
        "      name=fn, length=len(uploaded[fn])))\n",
        "\n",
        "# Then move kaggle.json into the folder where the API expects to find it.\n",
        "!mkdir -p ~/.kaggle/ && mv kaggle.json ~/.kaggle/ && chmod 600 ~/.kaggle/kaggle.json"
      ]
    },
    {
      "cell_type": "markdown",
      "metadata": {
        "id": "RqHM7r0_cmhe"
      },
      "source": [
        "We will begin by analyzing the metadata dataset, which includes comprehensive information about the movies.  \n",
        "This dataset encompasses details such as movie titles, descriptions, genres, and even their average IMDb ratings."
      ]
    },
    {
      "cell_type": "code",
      "execution_count": 3,
      "metadata": {
        "id": "WUPskNNGRe6M",
        "colab": {
          "base_uri": "https://localhost:8080/"
        },
        "outputId": "76a035c8-153a-461e-cf98-64a20beb8093"
      },
      "outputs": [
        {
          "output_type": "stream",
          "name": "stdout",
          "text": [
            "Dataset URL: https://www.kaggle.com/datasets/rounakbanik/the-movies-dataset\n",
            "License(s): CC0-1.0\n",
            "Downloading movies_metadata.csv.zip to /content\n",
            "  0% 0.00/12.2M [00:00<?, ?B/s]\n",
            "100% 12.2M/12.2M [00:00<00:00, 147MB/s]\n",
            "Dataset URL: https://www.kaggle.com/datasets/rounakbanik/the-movies-dataset\n",
            "License(s): CC0-1.0\n",
            "Downloading ratings.csv.zip to /content\n",
            " 91% 154M/170M [00:00<00:00, 229MB/s]\n",
            "100% 170M/170M [00:00<00:00, 236MB/s]\n",
            "Archive:  movies_metadata.csv.zip\n",
            "  inflating: movies_metadata.csv     \n",
            "Archive:  ratings.csv.zip\n",
            "  inflating: ratings.csv             \n"
          ]
        }
      ],
      "source": [
        "!kaggle datasets download \"rounakbanik/the-movies-dataset\" -f movies_metadata.csv\n",
        "!kaggle datasets download \"rounakbanik/the-movies-dataset\" -f ratings.csv\n",
        "!unzip movies_metadata.csv.zip\n",
        "!unzip ratings.csv.zip"
      ]
    },
    {
      "cell_type": "markdown",
      "metadata": {
        "id": "xptfFMZkcxwg"
      },
      "source": [
        "Use pandas to explore the `movies_metadata.csv` dataset.\n"
      ]
    },
    {
      "cell_type": "code",
      "execution_count": 25,
      "metadata": {
        "id": "mzn1PFZbFZ10",
        "colab": {
          "base_uri": "https://localhost:8080/",
          "height": 261
        },
        "outputId": "6f10872a-9c61-4d24-d754-616f7b0ac095"
      },
      "outputs": [
        {
          "output_type": "stream",
          "name": "stderr",
          "text": [
            "<ipython-input-25-8e2a9fc35ff1>:2: DtypeWarning: Columns (10) have mixed types. Specify dtype option on import or set low_memory=False.\n",
            "  metadata = pd.read_csv('movies_metadata.csv')\n"
          ]
        },
        {
          "output_type": "execute_result",
          "data": {
            "text/plain": [
              "      id                        title                        genres  \\\n",
              "0    862                    Toy Story   [Animation, Comedy, Family]   \n",
              "1   8844                      Jumanji  [Adventure, Fantasy, Family]   \n",
              "2  15602             Grumpier Old Men             [Romance, Comedy]   \n",
              "3  31357            Waiting to Exhale      [Comedy, Drama, Romance]   \n",
              "4  11862  Father of the Bride Part II                      [Comedy]   \n",
              "\n",
              "  release_date  vote_average  vote_count  \n",
              "0   1995-10-30           7.7      5415.0  \n",
              "1   1995-12-15           6.9      2413.0  \n",
              "2   1995-12-22           6.5        92.0  \n",
              "3   1995-12-22           6.1        34.0  \n",
              "4   1995-02-10           5.7       173.0  "
            ],
            "text/html": [
              "\n",
              "  <div id=\"df-66483da2-90ea-445e-b7d0-743504dd9e7f\" class=\"colab-df-container\">\n",
              "    <div>\n",
              "<style scoped>\n",
              "    .dataframe tbody tr th:only-of-type {\n",
              "        vertical-align: middle;\n",
              "    }\n",
              "\n",
              "    .dataframe tbody tr th {\n",
              "        vertical-align: top;\n",
              "    }\n",
              "\n",
              "    .dataframe thead th {\n",
              "        text-align: right;\n",
              "    }\n",
              "</style>\n",
              "<table border=\"1\" class=\"dataframe\">\n",
              "  <thead>\n",
              "    <tr style=\"text-align: right;\">\n",
              "      <th></th>\n",
              "      <th>id</th>\n",
              "      <th>title</th>\n",
              "      <th>genres</th>\n",
              "      <th>release_date</th>\n",
              "      <th>vote_average</th>\n",
              "      <th>vote_count</th>\n",
              "    </tr>\n",
              "  </thead>\n",
              "  <tbody>\n",
              "    <tr>\n",
              "      <th>0</th>\n",
              "      <td>862</td>\n",
              "      <td>Toy Story</td>\n",
              "      <td>[Animation, Comedy, Family]</td>\n",
              "      <td>1995-10-30</td>\n",
              "      <td>7.7</td>\n",
              "      <td>5415.0</td>\n",
              "    </tr>\n",
              "    <tr>\n",
              "      <th>1</th>\n",
              "      <td>8844</td>\n",
              "      <td>Jumanji</td>\n",
              "      <td>[Adventure, Fantasy, Family]</td>\n",
              "      <td>1995-12-15</td>\n",
              "      <td>6.9</td>\n",
              "      <td>2413.0</td>\n",
              "    </tr>\n",
              "    <tr>\n",
              "      <th>2</th>\n",
              "      <td>15602</td>\n",
              "      <td>Grumpier Old Men</td>\n",
              "      <td>[Romance, Comedy]</td>\n",
              "      <td>1995-12-22</td>\n",
              "      <td>6.5</td>\n",
              "      <td>92.0</td>\n",
              "    </tr>\n",
              "    <tr>\n",
              "      <th>3</th>\n",
              "      <td>31357</td>\n",
              "      <td>Waiting to Exhale</td>\n",
              "      <td>[Comedy, Drama, Romance]</td>\n",
              "      <td>1995-12-22</td>\n",
              "      <td>6.1</td>\n",
              "      <td>34.0</td>\n",
              "    </tr>\n",
              "    <tr>\n",
              "      <th>4</th>\n",
              "      <td>11862</td>\n",
              "      <td>Father of the Bride Part II</td>\n",
              "      <td>[Comedy]</td>\n",
              "      <td>1995-02-10</td>\n",
              "      <td>5.7</td>\n",
              "      <td>173.0</td>\n",
              "    </tr>\n",
              "  </tbody>\n",
              "</table>\n",
              "</div>\n",
              "    <div class=\"colab-df-buttons\">\n",
              "\n",
              "  <div class=\"colab-df-container\">\n",
              "    <button class=\"colab-df-convert\" onclick=\"convertToInteractive('df-66483da2-90ea-445e-b7d0-743504dd9e7f')\"\n",
              "            title=\"Convert this dataframe to an interactive table.\"\n",
              "            style=\"display:none;\">\n",
              "\n",
              "  <svg xmlns=\"http://www.w3.org/2000/svg\" height=\"24px\" viewBox=\"0 -960 960 960\">\n",
              "    <path d=\"M120-120v-720h720v720H120Zm60-500h600v-160H180v160Zm220 220h160v-160H400v160Zm0 220h160v-160H400v160ZM180-400h160v-160H180v160Zm440 0h160v-160H620v160ZM180-180h160v-160H180v160Zm440 0h160v-160H620v160Z\"/>\n",
              "  </svg>\n",
              "    </button>\n",
              "\n",
              "  <style>\n",
              "    .colab-df-container {\n",
              "      display:flex;\n",
              "      gap: 12px;\n",
              "    }\n",
              "\n",
              "    .colab-df-convert {\n",
              "      background-color: #E8F0FE;\n",
              "      border: none;\n",
              "      border-radius: 50%;\n",
              "      cursor: pointer;\n",
              "      display: none;\n",
              "      fill: #1967D2;\n",
              "      height: 32px;\n",
              "      padding: 0 0 0 0;\n",
              "      width: 32px;\n",
              "    }\n",
              "\n",
              "    .colab-df-convert:hover {\n",
              "      background-color: #E2EBFA;\n",
              "      box-shadow: 0px 1px 2px rgba(60, 64, 67, 0.3), 0px 1px 3px 1px rgba(60, 64, 67, 0.15);\n",
              "      fill: #174EA6;\n",
              "    }\n",
              "\n",
              "    .colab-df-buttons div {\n",
              "      margin-bottom: 4px;\n",
              "    }\n",
              "\n",
              "    [theme=dark] .colab-df-convert {\n",
              "      background-color: #3B4455;\n",
              "      fill: #D2E3FC;\n",
              "    }\n",
              "\n",
              "    [theme=dark] .colab-df-convert:hover {\n",
              "      background-color: #434B5C;\n",
              "      box-shadow: 0px 1px 3px 1px rgba(0, 0, 0, 0.15);\n",
              "      filter: drop-shadow(0px 1px 2px rgba(0, 0, 0, 0.3));\n",
              "      fill: #FFFFFF;\n",
              "    }\n",
              "  </style>\n",
              "\n",
              "    <script>\n",
              "      const buttonEl =\n",
              "        document.querySelector('#df-66483da2-90ea-445e-b7d0-743504dd9e7f button.colab-df-convert');\n",
              "      buttonEl.style.display =\n",
              "        google.colab.kernel.accessAllowed ? 'block' : 'none';\n",
              "\n",
              "      async function convertToInteractive(key) {\n",
              "        const element = document.querySelector('#df-66483da2-90ea-445e-b7d0-743504dd9e7f');\n",
              "        const dataTable =\n",
              "          await google.colab.kernel.invokeFunction('convertToInteractive',\n",
              "                                                    [key], {});\n",
              "        if (!dataTable) return;\n",
              "\n",
              "        const docLinkHtml = 'Like what you see? Visit the ' +\n",
              "          '<a target=\"_blank\" href=https://colab.research.google.com/notebooks/data_table.ipynb>data table notebook</a>'\n",
              "          + ' to learn more about interactive tables.';\n",
              "        element.innerHTML = '';\n",
              "        dataTable['output_type'] = 'display_data';\n",
              "        await google.colab.output.renderOutput(dataTable, element);\n",
              "        const docLink = document.createElement('div');\n",
              "        docLink.innerHTML = docLinkHtml;\n",
              "        element.appendChild(docLink);\n",
              "      }\n",
              "    </script>\n",
              "  </div>\n",
              "\n",
              "\n",
              "<div id=\"df-697a4323-4611-4de3-8a2b-2bd08c92ee0b\">\n",
              "  <button class=\"colab-df-quickchart\" onclick=\"quickchart('df-697a4323-4611-4de3-8a2b-2bd08c92ee0b')\"\n",
              "            title=\"Suggest charts\"\n",
              "            style=\"display:none;\">\n",
              "\n",
              "<svg xmlns=\"http://www.w3.org/2000/svg\" height=\"24px\"viewBox=\"0 0 24 24\"\n",
              "     width=\"24px\">\n",
              "    <g>\n",
              "        <path d=\"M19 3H5c-1.1 0-2 .9-2 2v14c0 1.1.9 2 2 2h14c1.1 0 2-.9 2-2V5c0-1.1-.9-2-2-2zM9 17H7v-7h2v7zm4 0h-2V7h2v10zm4 0h-2v-4h2v4z\"/>\n",
              "    </g>\n",
              "</svg>\n",
              "  </button>\n",
              "\n",
              "<style>\n",
              "  .colab-df-quickchart {\n",
              "      --bg-color: #E8F0FE;\n",
              "      --fill-color: #1967D2;\n",
              "      --hover-bg-color: #E2EBFA;\n",
              "      --hover-fill-color: #174EA6;\n",
              "      --disabled-fill-color: #AAA;\n",
              "      --disabled-bg-color: #DDD;\n",
              "  }\n",
              "\n",
              "  [theme=dark] .colab-df-quickchart {\n",
              "      --bg-color: #3B4455;\n",
              "      --fill-color: #D2E3FC;\n",
              "      --hover-bg-color: #434B5C;\n",
              "      --hover-fill-color: #FFFFFF;\n",
              "      --disabled-bg-color: #3B4455;\n",
              "      --disabled-fill-color: #666;\n",
              "  }\n",
              "\n",
              "  .colab-df-quickchart {\n",
              "    background-color: var(--bg-color);\n",
              "    border: none;\n",
              "    border-radius: 50%;\n",
              "    cursor: pointer;\n",
              "    display: none;\n",
              "    fill: var(--fill-color);\n",
              "    height: 32px;\n",
              "    padding: 0;\n",
              "    width: 32px;\n",
              "  }\n",
              "\n",
              "  .colab-df-quickchart:hover {\n",
              "    background-color: var(--hover-bg-color);\n",
              "    box-shadow: 0 1px 2px rgba(60, 64, 67, 0.3), 0 1px 3px 1px rgba(60, 64, 67, 0.15);\n",
              "    fill: var(--button-hover-fill-color);\n",
              "  }\n",
              "\n",
              "  .colab-df-quickchart-complete:disabled,\n",
              "  .colab-df-quickchart-complete:disabled:hover {\n",
              "    background-color: var(--disabled-bg-color);\n",
              "    fill: var(--disabled-fill-color);\n",
              "    box-shadow: none;\n",
              "  }\n",
              "\n",
              "  .colab-df-spinner {\n",
              "    border: 2px solid var(--fill-color);\n",
              "    border-color: transparent;\n",
              "    border-bottom-color: var(--fill-color);\n",
              "    animation:\n",
              "      spin 1s steps(1) infinite;\n",
              "  }\n",
              "\n",
              "  @keyframes spin {\n",
              "    0% {\n",
              "      border-color: transparent;\n",
              "      border-bottom-color: var(--fill-color);\n",
              "      border-left-color: var(--fill-color);\n",
              "    }\n",
              "    20% {\n",
              "      border-color: transparent;\n",
              "      border-left-color: var(--fill-color);\n",
              "      border-top-color: var(--fill-color);\n",
              "    }\n",
              "    30% {\n",
              "      border-color: transparent;\n",
              "      border-left-color: var(--fill-color);\n",
              "      border-top-color: var(--fill-color);\n",
              "      border-right-color: var(--fill-color);\n",
              "    }\n",
              "    40% {\n",
              "      border-color: transparent;\n",
              "      border-right-color: var(--fill-color);\n",
              "      border-top-color: var(--fill-color);\n",
              "    }\n",
              "    60% {\n",
              "      border-color: transparent;\n",
              "      border-right-color: var(--fill-color);\n",
              "    }\n",
              "    80% {\n",
              "      border-color: transparent;\n",
              "      border-right-color: var(--fill-color);\n",
              "      border-bottom-color: var(--fill-color);\n",
              "    }\n",
              "    90% {\n",
              "      border-color: transparent;\n",
              "      border-bottom-color: var(--fill-color);\n",
              "    }\n",
              "  }\n",
              "</style>\n",
              "\n",
              "  <script>\n",
              "    async function quickchart(key) {\n",
              "      const quickchartButtonEl =\n",
              "        document.querySelector('#' + key + ' button');\n",
              "      quickchartButtonEl.disabled = true;  // To prevent multiple clicks.\n",
              "      quickchartButtonEl.classList.add('colab-df-spinner');\n",
              "      try {\n",
              "        const charts = await google.colab.kernel.invokeFunction(\n",
              "            'suggestCharts', [key], {});\n",
              "      } catch (error) {\n",
              "        console.error('Error during call to suggestCharts:', error);\n",
              "      }\n",
              "      quickchartButtonEl.classList.remove('colab-df-spinner');\n",
              "      quickchartButtonEl.classList.add('colab-df-quickchart-complete');\n",
              "    }\n",
              "    (() => {\n",
              "      let quickchartButtonEl =\n",
              "        document.querySelector('#df-697a4323-4611-4de3-8a2b-2bd08c92ee0b button');\n",
              "      quickchartButtonEl.style.display =\n",
              "        google.colab.kernel.accessAllowed ? 'block' : 'none';\n",
              "    })();\n",
              "  </script>\n",
              "</div>\n",
              "\n",
              "    </div>\n",
              "  </div>\n"
            ],
            "application/vnd.google.colaboratory.intrinsic+json": {
              "type": "dataframe",
              "variable_name": "metadata",
              "summary": "{\n  \"name\": \"metadata\",\n  \"rows\": 45460,\n  \"fields\": [\n    {\n      \"column\": \"id\",\n      \"properties\": {\n        \"dtype\": \"number\",\n        \"std\": 112462,\n        \"min\": 2,\n        \"max\": 469172,\n        \"num_unique_values\": 45430,\n        \"samples\": [\n          421510,\n          163392,\n          41966\n        ],\n        \"semantic_type\": \"\",\n        \"description\": \"\"\n      }\n    },\n    {\n      \"column\": \"title\",\n      \"properties\": {\n        \"dtype\": \"string\",\n        \"num_unique_values\": 42277,\n        \"samples\": [\n          \"Far Away\",\n          \"Sully\",\n          \"Z for Zachariah\"\n        ],\n        \"semantic_type\": \"\",\n        \"description\": \"\"\n      }\n    },\n    {\n      \"column\": \"genres\",\n      \"properties\": {\n        \"dtype\": \"object\",\n        \"semantic_type\": \"\",\n        \"description\": \"\"\n      }\n    },\n    {\n      \"column\": \"release_date\",\n      \"properties\": {\n        \"dtype\": \"object\",\n        \"num_unique_values\": 17333,\n        \"samples\": [\n          \"1949-07-01\",\n          \"1964-05-31\",\n          \"1945-10-22\"\n        ],\n        \"semantic_type\": \"\",\n        \"description\": \"\"\n      }\n    },\n    {\n      \"column\": \"vote_average\",\n      \"properties\": {\n        \"dtype\": \"number\",\n        \"std\": 1.9242159915229755,\n        \"min\": 0.0,\n        \"max\": 10.0,\n        \"num_unique_values\": 92,\n        \"samples\": [\n          3.8,\n          8.1,\n          3.7\n        ],\n        \"semantic_type\": \"\",\n        \"description\": \"\"\n      }\n    },\n    {\n      \"column\": \"vote_count\",\n      \"properties\": {\n        \"dtype\": \"number\",\n        \"std\": 491.3103739397137,\n        \"min\": 0.0,\n        \"max\": 14075.0,\n        \"num_unique_values\": 1820,\n        \"samples\": [\n          5912.0,\n          1588.0,\n          12.0\n        ],\n        \"semantic_type\": \"\",\n        \"description\": \"\"\n      }\n    }\n  ]\n}"
            }
          },
          "metadata": {},
          "execution_count": 25
        }
      ],
      "source": [
        "import pandas as pd\n",
        "metadata = pd.read_csv('movies_metadata.csv')\n",
        "metadata.dropna(subset=['title'], inplace=True)\n",
        "metadata['id'] = pd.to_numeric(metadata['id'])\n",
        "metadata['genres'] = metadata['genres'].apply(lambda x: [i['name'] for i in eval(x)])\n",
        "metadata = metadata[['id', 'title', 'genres', 'release_date', 'vote_average', 'vote_count']]\n",
        "metadata.head(5)"
      ]
    },
    {
      "cell_type": "markdown",
      "metadata": {
        "id": "pxrwsdTstfHD"
      },
      "source": [
        "Using the release date, create a new column called `year` and use seaborn to plot the number of movies per year."
      ]
    },
    {
      "cell_type": "code",
      "execution_count": 29,
      "metadata": {
        "id": "7X6vms1Tt5T8",
        "colab": {
          "base_uri": "https://localhost:8080/",
          "height": 487
        },
        "outputId": "4085de98-22d6-4636-93fa-0a7f84c729ac"
      },
      "outputs": [
        {
          "output_type": "execute_result",
          "data": {
            "text/plain": [
              "<Axes: xlabel='year', ylabel='Count'>"
            ]
          },
          "metadata": {},
          "execution_count": 29
        },
        {
          "output_type": "display_data",
          "data": {
            "text/plain": [
              "<Figure size 640x480 with 1 Axes>"
            ],
            "image/png": "[encoded data removed]"
          },
          "metadata": {}
        }
      ],
      "source": [
        "import seaborn as sns\n",
        "import matplotlib.pyplot as plt\n",
        "\n",
        "metadata['year'] = metadata['release_date'].apply(lambda date: int(date[:4]) if type(date)==str else date)\n",
        "sns.histplot(metadata['year'])"
      ]
    },
    {
      "cell_type": "markdown",
      "metadata": {
        "id": "CSWUNjSB5oo-"
      },
      "source": [
        "# Recommendation by popularity"
      ]
    },
    {
      "cell_type": "markdown",
      "source": [
        "Let's start with a straightforward approach to generating recommendations by suggesting the top 5 movies based on their average score. However, it's worth noting that while average score is a useful metric, it may not always provide the most personalized recommendations, as individual preferences can vary widely."
      ],
      "metadata": {
        "id": "u8I-zN7-Q10X"
      }
    },
    {
      "cell_type": "code",
      "execution_count": 41,
      "metadata": {
        "id": "MMeug2Ns_eWR",
        "colab": {
          "base_uri": "https://localhost:8080/"
        },
        "outputId": "f15a007a-3808-49c0-eb65-790c5c4ef2b7"
      },
      "outputs": [
        {
          "output_type": "stream",
          "name": "stdout",
          "text": [
            "['Dream Deceivers: The Story Behind James Vance vs. Judas Priest', 'Reckless', 'Canned Dreams', 'Sum of Histories', 'Patient Zero']\n"
          ]
        }
      ],
      "source": [
        "metadata = metadata.sort_values(by=\"vote_average\", ascending=False)\n",
        "reco_pop = metadata[\"title\"].to_list()[:5]\n",
        "print(reco_pop)"
      ]
    },
    {
      "cell_type": "markdown",
      "metadata": {
        "id": "eSAhfINJuSQr"
      },
      "source": [
        "Have you seen any of these movies?  \n",
        "You may have guessed that the average score is only reliable when it is averaged on a sufficient number of votes.\n",
        "Use seaborn ```histplot``` method to plot the histogram of the number of votes.\n",
        "For better readability you may first do this plot for the movies with less than 100 votes and then do another one for the remaining ones."
      ]
    },
    {
      "cell_type": "code",
      "execution_count": 47,
      "metadata": {
        "id": "R5_OvQG7p_oa",
        "colab": {
          "base_uri": "https://localhost:8080/",
          "height": 627
        },
        "outputId": "1c858a00-30c2-4489-ced6-be6725fe2d8c"
      },
      "outputs": [
        {
          "output_type": "execute_result",
          "data": {
            "text/plain": [
              "<Axes: xlabel='vote_count', ylabel='Count'>"
            ]
          },
          "metadata": {},
          "execution_count": 47
        },
        {
          "output_type": "display_data",
          "data": {
            "text/plain": [
              "<Figure size 2000x1000 with 2 Axes>"
            ],
            "image/png": "[encoded data removed]"
          },
          "metadata": {}
        }
      ],
      "source": [
        "fig,[ax1, ax2] = plt.subplots(1,2, figsize=(20,10))\n",
        "\n",
        "sns.histplot(metadata[metadata['vote_count']<=100][\"vote_count\"], ax = ax1)\n",
        "sns.histplot(metadata[metadata['vote_count']>100][\"vote_count\"], ax = ax2)"
      ]
    },
    {
      "cell_type": "markdown",
      "metadata": {
        "id": "IWmLm-0c_7k-"
      },
      "source": [
        "Try to visualize the best movies according to the average vote for movies that have at least 1000 votes.  \n",
        "You should now know some of these movies now.\n"
      ]
    },
    {
      "cell_type": "code",
      "execution_count": 49,
      "metadata": {
        "id": "Oie1uXOt_rx9",
        "colab": {
          "base_uri": "https://localhost:8080/"
        },
        "outputId": "408ca885-2e14-4f1e-aa6a-0f4fdfc23f78"
      },
      "outputs": [
        {
          "output_type": "stream",
          "name": "stdout",
          "text": [
            "['Your Name.', 'The Shawshank Redemption', 'The Godfather', 'Whiplash', \"Schindler's List\"]\n"
          ]
        }
      ],
      "source": [
        "reco_pop_2 = metadata[metadata[\"vote_count\"]>=1000].sort_values(by=\"vote_average\", ascending=False)[\"title\"].to_list()[:5]\n",
        "print(reco_pop_2)"
      ]
    },
    {
      "cell_type": "markdown",
      "metadata": {
        "id": "B-KcoY_Y__TE"
      },
      "source": [
        "## Best movies by IMDb score\n",
        "IMDb (an acronym for Internet Movie Database) is an online database of information related to films, television programs, home videos, video games, and streaming content online.\n",
        "It might be considered as one of the most exhaustive databases on movies.\n",
        "In addition, IMDb maintains a ranking of movies according to people's votes. To do so, it computes a score based on the average rating and the number of votes.\n",
        "The formula they are using is described [here](https://help.imdb.com/article/imdb/track-movies-tv/ratings-faq/G67Y87TFYYP6TWAV#)\n",
        "![](https://drive.google.com/uc?export=view&id=12J_uJ86eOimr8Y0LHTGSMmUgkBnZu9cO)  \n",
        "Use this formula to compute the IMDb score for all movies and visualize the ones with the best scores. (You may use a smaller value for m, 500 for example)\n"
      ]
    },
    {
      "cell_type": "code",
      "execution_count": 53,
      "metadata": {
        "id": "6HC4ICpX9rMi",
        "colab": {
          "base_uri": "https://localhost:8080/"
        },
        "outputId": "8f00b258-a505-435d-cea2-77eaf8373cba"
      },
      "outputs": [
        {
          "output_type": "stream",
          "name": "stdout",
          "text": [
            "['The Shawshank Redemption', 'The Godfather', 'The Dark Knight', 'Fight Club', 'Pulp Fiction']\n"
          ]
        }
      ],
      "source": [
        "m = 500\n",
        "c = metadata.vote_average.mean()\n",
        "\n",
        "def imdb_score(x):\n",
        "    r = x[\"vote_average\"]\n",
        "    v = x[\"vote_count\"]\n",
        "    return (v/(v+m))*r + (m/(v+m))*c\n",
        "\n",
        "metadata['imdb_score'] = metadata.apply(imdb_score, axis=1)\n",
        "reco_pop_imdb = metadata.sort_values(by=\"imdb_score\", ascending=False)[\"title\"].to_list()[:5]\n",
        "print(reco_pop_imdb)"
      ]
    },
    {
      "cell_type": "markdown",
      "metadata": {
        "id": "9vEAlQDAu-EM"
      },
      "source": [
        "What were the best movies in your birth year?"
      ]
    },
    {
      "cell_type": "code",
      "execution_count": 55,
      "metadata": {
        "id": "QzEhMDWqvPsJ",
        "colab": {
          "base_uri": "https://localhost:8080/"
        },
        "outputId": "01947b36-bddf-40ae-a116-679b36834316"
      },
      "outputs": [
        {
          "output_type": "stream",
          "name": "stdout",
          "text": [
            "['The Lord of the Rings: The Two Towers', 'City of God', 'The Pianist', 'Catch Me If You Can', 'Harry Potter and the Chamber of Secrets']\n"
          ]
        }
      ],
      "source": [
        "reco_pop_imdb_birthyear = metadata[metadata[\"year\"]==2002].sort_values(by=\"imdb_score\", ascending=False)[\"title\"].to_list()[:5]\n",
        "print(reco_pop_imdb_birthyear)"
      ]
    },
    {
      "cell_type": "markdown",
      "metadata": {
        "id": "k_sgJyVAUPKT"
      },
      "source": [
        "One way to refine recommendations is by considering popularity and recommending products from the same category or genre. This approach can help ensure that the suggestions are not only highly rated but also aligned with the user's interests.  \n",
        "The following code will create a data frame containing one-hot encoding of the movie's genre.\n",
        "Use it to recommend the best movies according to the genre and the IMDB score (for example the best Horror movies)"
      ]
    },
    {
      "cell_type": "code",
      "execution_count": 56,
      "metadata": {
        "id": "QW0S-8DCOlqg",
        "colab": {
          "base_uri": "https://localhost:8080/",
          "height": 412
        },
        "outputId": "7f286d20-9fae-40ed-cbb8-621f3add7817"
      },
      "outputs": [
        {
          "output_type": "execute_result",
          "data": {
            "text/plain": [
              "           id                                              title release_date  \\\n",
              "33280  123691  Dream Deceivers: The Story Behind James Vance ...   1992-08-06   \n",
              "186     58372                                           Reckless   1995-11-17   \n",
              "18686  123320                                      Canned Dreams   2012-01-25   \n",
              "36310  361183                                   Sum of Histories   2015-09-30   \n",
              "42179  295011                                       Patient Zero          NaN   \n",
              "\n",
              "       vote_average  vote_count    year  imdb_score  Action  Adventure  \\\n",
              "33280          10.0         1.0  1992.0    5.626953       0          0   \n",
              "186            10.0         1.0  1995.0    5.626953       0          0   \n",
              "18686          10.0         1.0  2012.0    5.626953       0          0   \n",
              "36310          10.0         1.0  2015.0    5.626953       0          0   \n",
              "42179          10.0         2.0     NaN    5.635665       1          0   \n",
              "\n",
              "       Animation  ...  History  Horror  Music  Mystery  Romance  \\\n",
              "33280          0  ...        0       0      0        0        0   \n",
              "186            0  ...        0       0      0        0        0   \n",
              "18686          0  ...        0       0      0        0        0   \n",
              "36310          0  ...        0       0      0        0        1   \n",
              "42179          0  ...        0       1      0        0        0   \n",
              "\n",
              "       Science Fiction  TV Movie  Thriller  War  Western  \n",
              "33280                0         0         0    0        0  \n",
              "186                  0         0         0    0        0  \n",
              "18686                0         0         0    0        0  \n",
              "36310                1         0         0    0        0  \n",
              "42179                0         0         1    0        0  \n",
              "\n",
              "[5 rows x 27 columns]"
            ],
            "text/html": [
              "\n",
              "  <div id=\"df-8a6c388b-bb49-4925-8733-15a4aa4db108\" class=\"colab-df-container\">\n",
              "    <div>\n",
              "<style scoped>\n",
              "    .dataframe tbody tr th:only-of-type {\n",
              "        vertical-align: middle;\n",
              "    }\n",
              "\n",
              "    .dataframe tbody tr th {\n",
              "        vertical-align: top;\n",
              "    }\n",
              "\n",
              "    .dataframe thead th {\n",
              "        text-align: right;\n",
              "    }\n",
              "</style>\n",
              "<table border=\"1\" class=\"dataframe\">\n",
              "  <thead>\n",
              "    <tr style=\"text-align: right;\">\n",
              "      <th></th>\n",
              "      <th>id</th>\n",
              "      <th>title</th>\n",
              "      <th>release_date</th>\n",
              "      <th>vote_average</th>\n",
              "      <th>vote_count</th>\n",
              "      <th>year</th>\n",
              "      <th>imdb_score</th>\n",
              "      <th>Action</th>\n",
              "      <th>Adventure</th>\n",
              "      <th>Animation</th>\n",
              "      <th>...</th>\n",
              "      <th>History</th>\n",
              "      <th>Horror</th>\n",
              "      <th>Music</th>\n",
              "      <th>Mystery</th>\n",
              "      <th>Romance</th>\n",
              "      <th>Science Fiction</th>\n",
              "      <th>TV Movie</th>\n",
              "      <th>Thriller</th>\n",
              "      <th>War</th>\n",
              "      <th>Western</th>\n",
              "    </tr>\n",
              "  </thead>\n",
              "  <tbody>\n",
              "    <tr>\n",
              "      <th>33280</th>\n",
              "      <td>123691</td>\n",
              "      <td>Dream Deceivers: The Story Behind James Vance ...</td>\n",
              "      <td>1992-08-06</td>\n",
              "      <td>10.0</td>\n",
              "      <td>1.0</td>\n",
              "      <td>1992.0</td>\n",
              "      <td>5.626953</td>\n",
              "      <td>0</td>\n",
              "      <td>0</td>\n",
              "      <td>0</td>\n",
              "      <td>...</td>\n",
              "      <td>0</td>\n",
              "      <td>0</td>\n",
              "      <td>0</td>\n",
              "      <td>0</td>\n",
              "      <td>0</td>\n",
              "      <td>0</td>\n",
              "      <td>0</td>\n",
              "      <td>0</td>\n",
              "      <td>0</td>\n",
              "      <td>0</td>\n",
              "    </tr>\n",
              "    <tr>\n",
              "      <th>186</th>\n",
              "      <td>58372</td>\n",
              "      <td>Reckless</td>\n",
              "      <td>1995-11-17</td>\n",
              "      <td>10.0</td>\n",
              "      <td>1.0</td>\n",
              "      <td>1995.0</td>\n",
              "      <td>5.626953</td>\n",
              "      <td>0</td>\n",
              "      <td>0</td>\n",
              "      <td>0</td>\n",
              "      <td>...</td>\n",
              "      <td>0</td>\n",
              "      <td>0</td>\n",
              "      <td>0</td>\n",
              "      <td>0</td>\n",
              "      <td>0</td>\n",
              "      <td>0</td>\n",
              "      <td>0</td>\n",
              "      <td>0</td>\n",
              "      <td>0</td>\n",
              "      <td>0</td>\n",
              "    </tr>\n",
              "    <tr>\n",
              "      <th>18686</th>\n",
              "      <td>123320</td>\n",
              "      <td>Canned Dreams</td>\n",
              "      <td>2012-01-25</td>\n",
              "      <td>10.0</td>\n",
              "      <td>1.0</td>\n",
              "      <td>2012.0</td>\n",
              "      <td>5.626953</td>\n",
              "      <td>0</td>\n",
              "      <td>0</td>\n",
              "      <td>0</td>\n",
              "      <td>...</td>\n",
              "      <td>0</td>\n",
              "      <td>0</td>\n",
              "      <td>0</td>\n",
              "      <td>0</td>\n",
              "      <td>0</td>\n",
              "      <td>0</td>\n",
              "      <td>0</td>\n",
              "      <td>0</td>\n",
              "      <td>0</td>\n",
              "      <td>0</td>\n",
              "    </tr>\n",
              "    <tr>\n",
              "      <th>36310</th>\n",
              "      <td>361183</td>\n",
              "      <td>Sum of Histories</td>\n",
              "      <td>2015-09-30</td>\n",
              "      <td>10.0</td>\n",
              "      <td>1.0</td>\n",
              "      <td>2015.0</td>\n",
              "      <td>5.626953</td>\n",
              "      <td>0</td>\n",
              "      <td>0</td>\n",
              "      <td>0</td>\n",
              "      <td>...</td>\n",
              "      <td>0</td>\n",
              "      <td>0</td>\n",
              "      <td>0</td>\n",
              "      <td>0</td>\n",
              "      <td>1</td>\n",
              "      <td>1</td>\n",
              "      <td>0</td>\n",
              "      <td>0</td>\n",
              "      <td>0</td>\n",
              "      <td>0</td>\n",
              "    </tr>\n",
              "    <tr>\n",
              "      <th>42179</th>\n",
              "      <td>295011</td>\n",
              "      <td>Patient Zero</td>\n",
              "      <td>NaN</td>\n",
              "      <td>10.0</td>\n",
              "      <td>2.0</td>\n",
              "      <td>NaN</td>\n",
              "      <td>5.635665</td>\n",
              "      <td>1</td>\n",
              "      <td>0</td>\n",
              "      <td>0</td>\n",
              "      <td>...</td>\n",
              "      <td>0</td>\n",
              "      <td>1</td>\n",
              "      <td>0</td>\n",
              "      <td>0</td>\n",
              "      <td>0</td>\n",
              "      <td>0</td>\n",
              "      <td>0</td>\n",
              "      <td>1</td>\n",
              "      <td>0</td>\n",
              "      <td>0</td>\n",
              "    </tr>\n",
              "  </tbody>\n",
              "</table>\n",
              "<p>5 rows × 27 columns</p>\n",
              "</div>\n",
              "    <div class=\"colab-df-buttons\">\n",
              "\n",
              "  <div class=\"colab-df-container\">\n",
              "    <button class=\"colab-df-convert\" onclick=\"convertToInteractive('df-8a6c388b-bb49-4925-8733-15a4aa4db108')\"\n",
              "            title=\"Convert this dataframe to an interactive table.\"\n",
              "            style=\"display:none;\">\n",
              "\n",
              "  <svg xmlns=\"http://www.w3.org/2000/svg\" height=\"24px\" viewBox=\"0 -960 960 960\">\n",
              "    <path d=\"M120-120v-720h720v720H120Zm60-500h600v-160H180v160Zm220 220h160v-160H400v160Zm0 220h160v-160H400v160ZM180-400h160v-160H180v160Zm440 0h160v-160H620v160ZM180-180h160v-160H180v160Zm440 0h160v-160H620v160Z\"/>\n",
              "  </svg>\n",
              "    </button>\n",
              "\n",
              "  <style>\n",
              "    .colab-df-container {\n",
              "      display:flex;\n",
              "      gap: 12px;\n",
              "    }\n",
              "\n",
              "    .colab-df-convert {\n",
              "      background-color: #E8F0FE;\n",
              "      border: none;\n",
              "      border-radius: 50%;\n",
              "      cursor: pointer;\n",
              "      display: none;\n",
              "      fill: #1967D2;\n",
              "      height: 32px;\n",
              "      padding: 0 0 0 0;\n",
              "      width: 32px;\n",
              "    }\n",
              "\n",
              "    .colab-df-convert:hover {\n",
              "      background-color: #E2EBFA;\n",
              "      box-shadow: 0px 1px 2px rgba(60, 64, 67, 0.3), 0px 1px 3px 1px rgba(60, 64, 67, 0.15);\n",
              "      fill: #174EA6;\n",
              "    }\n",
              "\n",
              "    .colab-df-buttons div {\n",
              "      margin-bottom: 4px;\n",
              "    }\n",
              "\n",
              "    [theme=dark] .colab-df-convert {\n",
              "      background-color: #3B4455;\n",
              "      fill: #D2E3FC;\n",
              "    }\n",
              "\n",
              "    [theme=dark] .colab-df-convert:hover {\n",
              "      background-color: #434B5C;\n",
              "      box-shadow: 0px 1px 3px 1px rgba(0, 0, 0, 0.15);\n",
              "      filter: drop-shadow(0px 1px 2px rgba(0, 0, 0, 0.3));\n",
              "      fill: #FFFFFF;\n",
              "    }\n",
              "  </style>\n",
              "\n",
              "    <script>\n",
              "      const buttonEl =\n",
              "        document.querySelector('#df-8a6c388b-bb49-4925-8733-15a4aa4db108 button.colab-df-convert');\n",
              "      buttonEl.style.display =\n",
              "        google.colab.kernel.accessAllowed ? 'block' : 'none';\n",
              "\n",
              "      async function convertToInteractive(key) {\n",
              "        const element = document.querySelector('#df-8a6c388b-bb49-4925-8733-15a4aa4db108');\n",
              "        const dataTable =\n",
              "          await google.colab.kernel.invokeFunction('convertToInteractive',\n",
              "                                                    [key], {});\n",
              "        if (!dataTable) return;\n",
              "\n",
              "        const docLinkHtml = 'Like what you see? Visit the ' +\n",
              "          '<a target=\"_blank\" href=https://colab.research.google.com/notebooks/data_table.ipynb>data table notebook</a>'\n",
              "          + ' to learn more about interactive tables.';\n",
              "        element.innerHTML = '';\n",
              "        dataTable['output_type'] = 'display_data';\n",
              "        await google.colab.output.renderOutput(dataTable, element);\n",
              "        const docLink = document.createElement('div');\n",
              "        docLink.innerHTML = docLinkHtml;\n",
              "        element.appendChild(docLink);\n",
              "      }\n",
              "    </script>\n",
              "  </div>\n",
              "\n",
              "\n",
              "<div id=\"df-1171d61f-8123-4b4d-a4cd-c66d7b2d136b\">\n",
              "  <button class=\"colab-df-quickchart\" onclick=\"quickchart('df-1171d61f-8123-4b4d-a4cd-c66d7b2d136b')\"\n",
              "            title=\"Suggest charts\"\n",
              "            style=\"display:none;\">\n",
              "\n",
              "<svg xmlns=\"http://www.w3.org/2000/svg\" height=\"24px\"viewBox=\"0 0 24 24\"\n",
              "     width=\"24px\">\n",
              "    <g>\n",
              "        <path d=\"M19 3H5c-1.1 0-2 .9-2 2v14c0 1.1.9 2 2 2h14c1.1 0 2-.9 2-2V5c0-1.1-.9-2-2-2zM9 17H7v-7h2v7zm4 0h-2V7h2v10zm4 0h-2v-4h2v4z\"/>\n",
              "    </g>\n",
              "</svg>\n",
              "  </button>\n",
              "\n",
              "<style>\n",
              "  .colab-df-quickchart {\n",
              "      --bg-color: #E8F0FE;\n",
              "      --fill-color: #1967D2;\n",
              "      --hover-bg-color: #E2EBFA;\n",
              "      --hover-fill-color: #174EA6;\n",
              "      --disabled-fill-color: #AAA;\n",
              "      --disabled-bg-color: #DDD;\n",
              "  }\n",
              "\n",
              "  [theme=dark] .colab-df-quickchart {\n",
              "      --bg-color: #3B4455;\n",
              "      --fill-color: #D2E3FC;\n",
              "      --hover-bg-color: #434B5C;\n",
              "      --hover-fill-color: #FFFFFF;\n",
              "      --disabled-bg-color: #3B4455;\n",
              "      --disabled-fill-color: #666;\n",
              "  }\n",
              "\n",
              "  .colab-df-quickchart {\n",
              "    background-color: var(--bg-color);\n",
              "    border: none;\n",
              "    border-radius: 50%;\n",
              "    cursor: pointer;\n",
              "    display: none;\n",
              "    fill: var(--fill-color);\n",
              "    height: 32px;\n",
              "    padding: 0;\n",
              "    width: 32px;\n",
              "  }\n",
              "\n",
              "  .colab-df-quickchart:hover {\n",
              "    background-color: var(--hover-bg-color);\n",
              "    box-shadow: 0 1px 2px rgba(60, 64, 67, 0.3), 0 1px 3px 1px rgba(60, 64, 67, 0.15);\n",
              "    fill: var(--button-hover-fill-color);\n",
              "  }\n",
              "\n",
              "  .colab-df-quickchart-complete:disabled,\n",
              "  .colab-df-quickchart-complete:disabled:hover {\n",
              "    background-color: var(--disabled-bg-color);\n",
              "    fill: var(--disabled-fill-color);\n",
              "    box-shadow: none;\n",
              "  }\n",
              "\n",
              "  .colab-df-spinner {\n",
              "    border: 2px solid var(--fill-color);\n",
              "    border-color: transparent;\n",
              "    border-bottom-color: var(--fill-color);\n",
              "    animation:\n",
              "      spin 1s steps(1) infinite;\n",
              "  }\n",
              "\n",
              "  @keyframes spin {\n",
              "    0% {\n",
              "      border-color: transparent;\n",
              "      border-bottom-color: var(--fill-color);\n",
              "      border-left-color: var(--fill-color);\n",
              "    }\n",
              "    20% {\n",
              "      border-color: transparent;\n",
              "      border-left-color: var(--fill-color);\n",
              "      border-top-color: var(--fill-color);\n",
              "    }\n",
              "    30% {\n",
              "      border-color: transparent;\n",
              "      border-left-color: var(--fill-color);\n",
              "      border-top-color: var(--fill-color);\n",
              "      border-right-color: var(--fill-color);\n",
              "    }\n",
              "    40% {\n",
              "      border-color: transparent;\n",
              "      border-right-color: var(--fill-color);\n",
              "      border-top-color: var(--fill-color);\n",
              "    }\n",
              "    60% {\n",
              "      border-color: transparent;\n",
              "      border-right-color: var(--fill-color);\n",
              "    }\n",
              "    80% {\n",
              "      border-color: transparent;\n",
              "      border-right-color: var(--fill-color);\n",
              "      border-bottom-color: var(--fill-color);\n",
              "    }\n",
              "    90% {\n",
              "      border-color: transparent;\n",
              "      border-bottom-color: var(--fill-color);\n",
              "    }\n",
              "  }\n",
              "</style>\n",
              "\n",
              "  <script>\n",
              "    async function quickchart(key) {\n",
              "      const quickchartButtonEl =\n",
              "        document.querySelector('#' + key + ' button');\n",
              "      quickchartButtonEl.disabled = true;  // To prevent multiple clicks.\n",
              "      quickchartButtonEl.classList.add('colab-df-spinner');\n",
              "      try {\n",
              "        const charts = await google.colab.kernel.invokeFunction(\n",
              "            'suggestCharts', [key], {});\n",
              "      } catch (error) {\n",
              "        console.error('Error during call to suggestCharts:', error);\n",
              "      }\n",
              "      quickchartButtonEl.classList.remove('colab-df-spinner');\n",
              "      quickchartButtonEl.classList.add('colab-df-quickchart-complete');\n",
              "    }\n",
              "    (() => {\n",
              "      let quickchartButtonEl =\n",
              "        document.querySelector('#df-1171d61f-8123-4b4d-a4cd-c66d7b2d136b button');\n",
              "      quickchartButtonEl.style.display =\n",
              "        google.colab.kernel.accessAllowed ? 'block' : 'none';\n",
              "    })();\n",
              "  </script>\n",
              "</div>\n",
              "\n",
              "    </div>\n",
              "  </div>\n"
            ],
            "application/vnd.google.colaboratory.intrinsic+json": {
              "type": "dataframe",
              "variable_name": "metadata"
            }
          },
          "metadata": {},
          "execution_count": 56
        }
      ],
      "source": [
        "from sklearn.preprocessing import MultiLabelBinarizer\n",
        "\n",
        "mlb = MultiLabelBinarizer()\n",
        "genre_df = pd.DataFrame(mlb.fit_transform(metadata['genres'].fillna('[]')),columns=mlb.classes_, index=metadata.index)\n",
        "metadata = pd.concat([metadata.drop(columns=['genres']), genre_df], axis=1)\n",
        "metadata.head()"
      ]
    },
    {
      "cell_type": "markdown",
      "source": [
        "Recommend some horror or comedy movies."
      ],
      "metadata": {
        "id": "P9W1DbdFkVcZ"
      }
    },
    {
      "cell_type": "code",
      "execution_count": 57,
      "metadata": {
        "id": "PHol9fYDTLGQ",
        "colab": {
          "base_uri": "https://localhost:8080/"
        },
        "outputId": "896bb54f-b673-49cb-ed07-beec0924ab94"
      },
      "outputs": [
        {
          "output_type": "stream",
          "name": "stdout",
          "text": [
            "['Forrest Gump', 'The Intouchables', 'Life Is Beautiful', 'Back to the Future', 'The Grand Budapest Hotel']\n"
          ]
        }
      ],
      "source": [
        "reco_pop_imdb_comedy = metadata[metadata[\"Comedy\"]==1].sort_values(by=\"imdb_score\", ascending=False)[\"title\"].to_list()[:5]\n",
        "print(reco_pop_imdb_comedy)"
      ]
    },
    {
      "cell_type": "markdown",
      "metadata": {
        "id": "ouHxUzDPUbwb"
      },
      "source": [
        "# Content based recommender systems"
      ]
    },
    {
      "cell_type": "markdown",
      "metadata": {
        "id": "MXdh1FPrWqOh"
      },
      "source": [
        "\n",
        "### Item description\n",
        "An alternative approach to building a recommender system is to generate recommendations based on content characteristics. This method is particularly appealing when dealing with situations where there are limited user interactions or a scarcity of new items to recommend. It's highly probable that your catalog includes supplementary data related to the items. This additional information is typically curated manually and can contain valuable features for the development of a content-based recommender system.\n",
        "\n",
        "In our specific case, we will obtain a dataset that includes keywords associated with the movies to facilitate this approach."
      ]
    },
    {
      "cell_type": "code",
      "execution_count": null,
      "metadata": {
        "id": "uTWzBug47LTR"
      },
      "outputs": [],
      "source": [
        "!kaggle datasets download \"rounakbanik/the-movies-dataset\" -f keywords.csv\n",
        "!unzip keywords.csv.zip"
      ]
    },
    {
      "cell_type": "code",
      "execution_count": null,
      "metadata": {
        "id": "qVI8CAsK65h6"
      },
      "outputs": [],
      "source": [
        "keywords = pd.read_csv('keywords.csv')\n",
        "keywords['keywords'] = keywords['keywords'].apply(lambda x: \" \".join([i['name'] for i in eval(x)])).fillna('')\n",
        "keywords.head()"
      ]
    },
    {
      "cell_type": "markdown",
      "metadata": {
        "id": "DWT4RXIMB5hd"
      },
      "source": [
        "These keywords can serve as excellent descriptors for our movies.  \n",
        "To enable similarity calculations between movies, it's essential to represent them in a vectorized format.  \n",
        "We will now create another dataframe containing all the movies attributes."
      ]
    },
    {
      "cell_type": "code",
      "execution_count": null,
      "metadata": {
        "id": "ej97GHDtWUel"
      },
      "outputs": [],
      "source": [
        "from sklearn.feature_extraction.text import CountVectorizer\n",
        "import pandas as pd\n",
        "\n",
        "mlb = CountVectorizer(max_features=400)\n",
        "keywords_transformed = mlb.fit_transform(keywords['keywords'])\n",
        "keywords_transformed = pd.DataFrame(keywords_transformed.toarray(), columns=mlb.get_feature_names_out(), index=keywords.index)\n",
        "keywords = pd.concat([keywords.drop(columns=['keywords']), keywords_transformed], axis=1)\n",
        "keywords.head()"
      ]
    },
    {
      "cell_type": "markdown",
      "metadata": {
        "id": "R1cuVvCvqwWZ"
      },
      "source": [
        "We will proceed by constructing a dataframe in which each movie is depicted through its attribute vectors, encompassing keywords and genres.  \n",
        "To optimize computational resources and reduce memory requirements, we will restrict our analysis to movies released after the year 2010."
      ]
    },
    {
      "cell_type": "code",
      "execution_count": null,
      "metadata": {
        "id": "7RySZnFB64W-"
      },
      "outputs": [],
      "source": [
        "subset = metadata[metadata['release_date'] > \"2010\"].reset_index(drop=True)\n",
        "\n",
        "attributes_df = pd.merge(subset.drop(columns=['release_date', 'vote_average', 'vote_count', 'year',\n",
        "       'imdb_score']), keywords, on='id')\n",
        "attributes_df.head()"
      ]
    },
    {
      "cell_type": "markdown",
      "metadata": {
        "id": "bAyFzBMhXOe6"
      },
      "source": [
        "Now that you have a representation computed for each movie, you can calculate distances or similarities for movie pairs.  \n",
        "Use scikit-learn 's [cosine_distances](https://scikit-learn.org/stable/modules/generated/sklearn.metrics.pairwise.cosine_distances.html) function, to compute the cosine similarity matrix of your dataframe.  "
      ]
    },
    {
      "cell_type": "code",
      "execution_count": null,
      "metadata": {
        "id": "IH57BkaU_NlO"
      },
      "outputs": [],
      "source": [
        "from sklearn.metrics.pairwise import cosine_distances\n",
        "cosine_sim = ..."
      ]
    },
    {
      "cell_type": "markdown",
      "metadata": {
        "id": "LZpbREM3Xjp9"
      },
      "source": [
        "Use the following function with your similarity matrix to recommend movies from another movie title.  \n",
        "Try on several movies."
      ]
    },
    {
      "cell_type": "code",
      "execution_count": null,
      "metadata": {
        "id": "0G-wd7OeGCAd"
      },
      "outputs": [],
      "source": [
        "titles = attributes_df['title']\n",
        "indices = pd.Series(attributes_df.index, index=attributes_df['title'])\n",
        "\n",
        "def get_reco(title, sim_matrix):\n",
        "  idx = indices[title]\n",
        "  print(f'original: {title}')\n",
        "  recos = sim_matrix[idx].argsort()[1:6]\n",
        "  recos = titles.iloc[recos]\n",
        "\n",
        "  print(recos)"
      ]
    },
    {
      "cell_type": "code",
      "execution_count": null,
      "metadata": {
        "id": "L8Kc92Bymf64"
      },
      "outputs": [],
      "source": [
        "title = 'LEGO: The Adventures of Clutch Powers'\n",
        "get_reco(title, cosine_sim)"
      ]
    },
    {
      "cell_type": "code",
      "execution_count": null,
      "metadata": {
        "id": "IGPMmv29k8Ii"
      },
      "outputs": [],
      "source": [
        "title = 'Iron Man 2'\n",
        "get_reco(title, cosine_sim)"
      ]
    },
    {
      "cell_type": "code",
      "execution_count": null,
      "metadata": {
        "id": "x8VZCO6RlG7A"
      },
      "outputs": [],
      "source": [
        "title = 'How to Train Your Dragon'\n",
        "get_reco(title, cosine_sim)"
      ]
    },
    {
      "cell_type": "code",
      "execution_count": null,
      "metadata": {
        "id": "6r8eClr-lc-r"
      },
      "outputs": [],
      "source": [
        "title = 'Alice in Wonderland'\n",
        "get_reco(title, cosine_sim)"
      ]
    },
    {
      "cell_type": "markdown",
      "metadata": {
        "id": "gGv6FOEkwvvy"
      },
      "source": [
        "Let's free some memory in the Colab instance."
      ]
    },
    {
      "cell_type": "code",
      "execution_count": null,
      "metadata": {
        "id": "_KMMPluZAM8O"
      },
      "outputs": [],
      "source": [
        "del(cosine_distances)\n",
        "del(attributes_df)"
      ]
    },
    {
      "cell_type": "markdown",
      "metadata": {
        "id": "3hpHJS-7Ph9b"
      },
      "source": [
        "### Images"
      ]
    },
    {
      "cell_type": "markdown",
      "metadata": {
        "id": "1cURcQU4Yt1C"
      },
      "source": [
        "Images are another type of content associated to products.  \n",
        "It may not necessarily be relevant in the case of movies but let's do it anyway.  \n",
        "We will now recommend movies according to their posters.  \n",
        "First, we need to download another dataset."
      ]
    },
    {
      "cell_type": "code",
      "execution_count": null,
      "metadata": {
        "id": "tcR_BXDOkebb"
      },
      "outputs": [],
      "source": [
        "!kaggle datasets download \"ghrzarea/movielens-20m-posters-for-machine-learning\"\n",
        "!unzip movielens-20m-posters-for-machine-learning.zip"
      ]
    },
    {
      "cell_type": "markdown",
      "metadata": {
        "id": "WbqtGu8zZVIV"
      },
      "source": [
        "The following code will help loading the data with Pytorch."
      ]
    },
    {
      "cell_type": "code",
      "execution_count": null,
      "metadata": {
        "id": "slLm9ty3uBA_"
      },
      "outputs": [],
      "source": [
        "import torch\n",
        "from torchvision import datasets\n",
        "\n",
        "class ImageAndPathsDataset(datasets.ImageFolder):\n",
        "    def __getitem__(self, index):\n",
        "        img, _= super(ImageAndPathsDataset, self).__getitem__(index)\n",
        "        path = self.imgs[index][0]\n",
        "        return img, path\n",
        "\n"
      ]
    },
    {
      "cell_type": "markdown",
      "metadata": {
        "id": "SBfjtzoAaIPf"
      },
      "source": [
        "We will use a pre-trained network to extract the features from the posters.\n",
        "Similar to what we did with the item descriptions, we will compute similarities between the movies according to these features.\n",
        "\n",
        "The pre-trained model was trained with normalized images. Thus, we have to normalize our posters before feeding them to the network.\n",
        "The following code instantiates a data loader with normalized images and provides a function to revert the normalization for visualization purposes.\n"
      ]
    },
    {
      "cell_type": "code",
      "execution_count": null,
      "metadata": {
        "id": "W8RDKcuaozEg"
      },
      "outputs": [],
      "source": [
        "from torch.utils.data import DataLoader\n",
        "import torchvision.transforms as transforms\n",
        "\n",
        "mean = [ 0.485, 0.456, 0.406 ]\n",
        "std = [ 0.229, 0.224, 0.225 ]\n",
        "normalize = transforms.Normalize(mean, std)\n",
        "inv_normalize = transforms.Normalize(\n",
        "   mean= [-m/s for m, s in zip(mean, std)],\n",
        "   std= [1/s for s in std]\n",
        ")\n",
        "\n",
        "transform = transforms.Compose([transforms.Resize((224, 224)),\n",
        "                                transforms.ToTensor(),\n",
        "                                normalize])\n",
        "dataset = ImageAndPathsDataset('MLP-20M', transform)\n",
        "\n",
        "dataloader = DataLoader(dataset, batch_size=128, num_workers=2, shuffle=False)"
      ]
    },
    {
      "cell_type": "markdown",
      "metadata": {
        "id": "FZ-p-y7waHqN"
      },
      "source": [
        "Here are some exemples of posters:"
      ]
    },
    {
      "cell_type": "code",
      "execution_count": null,
      "metadata": {
        "id": "hEaN1FHVnwtW"
      },
      "outputs": [],
      "source": [
        "from torchvision.utils import make_grid\n",
        "import matplotlib.pyplot as plt\n",
        "x, paths = next(iter(dataloader))\n",
        "img_grid = make_grid(x[:16])\n",
        "img_grid = inv_normalize(img_grid)\n",
        "plt.figure(figsize=(20,15))\n",
        "plt.imshow(img_grid.permute(1, 2, 0))\n",
        "plt.axis('off')"
      ]
    },
    {
      "cell_type": "markdown",
      "metadata": {
        "id": "6HylAtoxarsu"
      },
      "source": [
        "Instantiate a pre-trained a mobilenet_v3_small model (documentation [here](https://pytorch.org/vision/stable/models.html))"
      ]
    },
    {
      "cell_type": "code",
      "execution_count": null,
      "metadata": {
        "id": "0AihOUOapv-3"
      },
      "outputs": [],
      "source": [
        "import torchvision.models as models\n",
        "mobilenet = ..."
      ]
    },
    {
      "cell_type": "markdown",
      "metadata": {
        "id": "eLj8Pu3ca4Jb"
      },
      "source": [
        "Have a look to the model:"
      ]
    },
    {
      "cell_type": "code",
      "execution_count": null,
      "metadata": {
        "id": "z8Fol_cxa0Ev"
      },
      "outputs": [],
      "source": [
        "mobilenet"
      ]
    },
    {
      "cell_type": "markdown",
      "metadata": {
        "id": "_dGZvEizbA3l"
      },
      "source": [
        "We will now crate a subset of this model to extract the features.\n",
        "Use a Sequential model to get only the features followed by the avgpool layer of mobilnet and finish with a Flatten layer (```torch.nn.Flatten()```)\n"
      ]
    },
    {
      "cell_type": "code",
      "execution_count": null,
      "metadata": {
        "id": "8TMyJ4p6avz5"
      },
      "outputs": [],
      "source": [
        "model = ... .cuda()"
      ]
    },
    {
      "cell_type": "markdown",
      "metadata": {
        "id": "pPGLFcAbbzE8"
      },
      "source": [
        "If your model is OK, it should predict 576-dimensional vectors."
      ]
    },
    {
      "cell_type": "code",
      "execution_count": null,
      "metadata": {
        "id": "wx6Ue-sHqSM5"
      },
      "outputs": [],
      "source": [
        "import torch\n",
        "x = torch.zeros(100, 3, 224,224).cuda()\n",
        "y = model(x)\n",
        "y.shape"
      ]
    },
    {
      "cell_type": "markdown",
      "metadata": {
        "id": "Ezj6kEcFcX4H"
      },
      "source": [
        "\n",
        "We will proceed to establish a dataframe containing our extracted features, along with the file paths to the poster images.."
      ]
    },
    {
      "cell_type": "code",
      "execution_count": null,
      "metadata": {
        "id": "EuVIQdtOI9Y6"
      },
      "outputs": [],
      "source": [
        "import pandas as pd\n",
        "from tqdm.notebook import tqdm\n",
        "\n",
        "features_list = []\n",
        "paths_list = []\n",
        "\n",
        "for x, paths in tqdm(dataloader):\n",
        "    with torch.no_grad():\n",
        "        embeddings = model(x.cuda())\n",
        "        features_list.extend(embeddings.cpu().numpy())\n",
        "        paths_list.extend(paths)\n",
        "\n",
        "df = pd.DataFrame({\n",
        "    'features': features_list,\n",
        "    'path': paths_list\n",
        "})\n",
        "\n",
        "df.head()"
      ]
    },
    {
      "cell_type": "markdown",
      "metadata": {
        "id": "O42UYqDryUhm"
      },
      "source": [
        "We will now extract all the features into a numpy array that will be used to compute the similarity matrix."
      ]
    },
    {
      "cell_type": "code",
      "execution_count": null,
      "metadata": {
        "id": "PYS2v2Gn_cJl"
      },
      "outputs": [],
      "source": [
        "import numpy as np\n",
        "features = np.vstack(features_list)\n",
        "features.shape"
      ]
    },
    {
      "cell_type": "markdown",
      "metadata": {
        "id": "gOi3Jv0hdWE1"
      },
      "source": [
        "Now compute the cosine similarities between the embeddings of your movies."
      ]
    },
    {
      "cell_type": "code",
      "execution_count": null,
      "metadata": {
        "id": "5E_dnAlL7cUH"
      },
      "outputs": [],
      "source": [
        "from sklearn.metrics.pairwise import cosine_distances\n",
        "cosine_sim = ..."
      ]
    },
    {
      "cell_type": "markdown",
      "metadata": {
        "id": "h5v_SZK4c3QD"
      },
      "source": [
        "The ```plot_image``` function  displays a poster according to it's path.  \n",
        "Fill the ```plot_images``` function to plot a series of posters from a list of paths."
      ]
    },
    {
      "cell_type": "code",
      "execution_count": null,
      "metadata": {
        "id": "PvuAcBau2dki"
      },
      "outputs": [],
      "source": [
        "import matplotlib.image as mpimg\n",
        "\n",
        "def plot_image(path):\n",
        "  img = mpimg.imread(path)\n",
        "  plt.imshow(img)\n",
        "  plt.axis('off')\n",
        "\n",
        "def plot_images(paths_list):\n",
        "  ...\n",
        "\n",
        "\n",
        "plot_images(['MLP-20M/MLP-20M/1.jpg', 'MLP-20M/MLP-20M/2.jpg', 'MLP-20M/MLP-20M/3.jpg', 'MLP-20M/MLP-20M/4.jpg', 'MLP-20M/MLP-20M/5.jpg'])"
      ]
    },
    {
      "cell_type": "markdown",
      "metadata": {
        "id": "PwXTSjpBdnti"
      },
      "source": [
        "Fill the following code to implement a function that plots the top 5 recommendations for a movie according to its index."
      ]
    },
    {
      "cell_type": "code",
      "execution_count": null,
      "metadata": {
        "id": "OTRaBwlR7_a6"
      },
      "outputs": [],
      "source": [
        "def plot_reco(idx, sim_matrix):\n",
        "  img = plot_image(df['path'][idx])\n",
        "  recos = ...\n",
        "  reco_posters = ...\n",
        "  plot_images(reco_posters)\n",
        "\n",
        "idx = 16 #10 #200\n",
        "plot_reco(idx, cosine_sim)"
      ]
    },
    {
      "cell_type": "markdown",
      "metadata": {
        "id": "Q2j-aaICyrhv"
      },
      "source": [
        "Try with different movie indexes, you will be surprised by the lack of originality of the poster designers!  \n",
        "Look at [this post](https://thechive.com/2020/01/20/all-movie-posters-look-the-same-what-the-hell-is-this-sht-20-photos/) to convince yourself."
      ]
    },
    {
      "cell_type": "markdown",
      "metadata": {
        "id": "_BKafhI57_eB"
      },
      "source": [
        "## Vector databases  \n",
        "\n",
        "Computing the similarity matrix is a very expensive operation in terms of memory and computation time that scales quadratically with the number of items.  It is also not very practical to store this matrix in a database.  \n",
        "Vector databases offer a suite of advantages tailored to the needs of modern data analytics and machine learning applications. At their core, they specialize in handling high-dimensional data, allowing for efficient similarity searches—something traditional databases struggle with. This makes them invaluable for tasks like recommendation systems, image searches, and semantic text retrieval. Beyond search efficiency, vector databases are designed for scalability, capable of handling billions of vectors without a hitch. Furthermore, they often come with built-in mechanisms for distributed storage and computation, ensuring data resilience and fast query speeds even as data volumes grow. In essence, vector databases are the backbone that empowers many of the AI-driven solutions we see today.  \n",
        "For our current session, we're aiming for simplicity and efficiency. Many of the standard vector databases, like [Milvus](https://milvus.io/) or [Weaviate](https://weaviate.io/), require their own dedicated installations and often need to run on separate servers or containers.  \n",
        "This can introduce added complexity. Instead, we're turning to [Annoy](https://github.com/spotify/annoy) a straightforward library developped by Spotify that lets us perform efficient neighbor searches without the installation and server overhead. While Annoy is great for our present needs, do keep in mind that in larger, production scenarios, the capabilities of a dedicated vector database could be invaluable."
      ]
    },
    {
      "cell_type": "code",
      "execution_count": null,
      "metadata": {
        "id": "skuNsFQF8vOf"
      },
      "outputs": [],
      "source": [
        "!pip install annoy"
      ]
    },
    {
      "cell_type": "markdown",
      "metadata": {
        "id": "aLnPlESj84OM"
      },
      "source": [
        "We will thus use the annoy library to create a vector database with our features.  \n",
        "In our case the database will be a simple file on the disk that we will load in memory when needed.\n",
        "To create the database, we will use an AnnoyIndex with the same dimensionality as our features and a metric to compute the distance between vectors.  \n",
        "Here we will use the cosine distance and set the database vector size to 576 (the size of our features)."
      ]
    },
    {
      "cell_type": "code",
      "execution_count": null,
      "metadata": {
        "id": "dpVndS-S8ybw"
      },
      "outputs": [],
      "source": [
        "from annoy import AnnoyIndex\n",
        "\n",
        "dim = 576\n",
        "annoy_index = AnnoyIndex(dim, 'angular')"
      ]
    },
    {
      "cell_type": "markdown",
      "metadata": {
        "id": "RfbSRJsm9IrU"
      },
      "source": [
        "We will now fill the database with our features as indexed vectors."
      ]
    },
    {
      "cell_type": "code",
      "execution_count": null,
      "metadata": {
        "id": "qPsjj-tg9ItF"
      },
      "outputs": [],
      "source": [
        "for i, embedding in enumerate(features_list):\n",
        "    annoy_index.add_item(i, embedding)\n",
        "\n",
        "annoy_index.build(10)"
      ]
    },
    {
      "cell_type": "markdown",
      "metadata": {
        "id": "Qd9bB6GMAOP-"
      },
      "source": [
        "The `annoy_index.build(10)` command builds the underlying data structures required for Annoy to perform its approximate nearest neighbor searches. Specifically, the number 10 indicates that Annoy should construct 10 trees. Building multiple trees helps improve the accuracy of the search at the expense of using more memory. In essence, this command is preparing Annoy to efficiently handle future queries."
      ]
    },
    {
      "cell_type": "markdown",
      "metadata": {
        "id": "llsftPc4BFIT"
      },
      "source": [
        "Vector databases excel at efficient similarity searches due to their foundational design principles. Traditional databases rely on exact matches or predefined indices to retrieve data. In contrast, vector databases operate in the realm of high-dimensional vector spaces. Here, data points (or vectors) that are semantically or contextually similar are often closer in distance. By leveraging algorithms optimized for these spaces, like approximate nearest neighbor (ANN) searches, vector databases quickly identify data points that lie near a query point. This spatial awareness enables them to bypass exhaustive scans and zero in on relevant results, making similarity searches both rapid and precise.\n",
        "Thus querying the database for the most similar items to a given item is a very fast operation.  \n",
        "Complete the following function to retrieve the most similar items to a given item."
      ]
    },
    {
      "cell_type": "code",
      "execution_count": null,
      "metadata": {
        "id": "HkVVR0iB9iNi"
      },
      "outputs": [],
      "source": [
        "def search(query_vector, k=5):\n",
        "    indices = annoy_index.get_nns_by_vector(query_vector, k)\n",
        "    paths = ...\n",
        "    return paths"
      ]
    },
    {
      "cell_type": "markdown",
      "metadata": {
        "id": "RHNffwc7BpBZ"
      },
      "source": [
        "Use this function to plot the top-k recommendations for a movie."
      ]
    },
    {
      "cell_type": "code",
      "execution_count": null,
      "metadata": {
        "id": "TXpDbwJB90XU"
      },
      "outputs": [],
      "source": [
        "index = 600\n",
        "plot_image(df.path[index])\n",
        "query_vector = df.features[index]\n",
        "result = search(query_vector)\n",
        "plot_images(result)"
      ]
    },
    {
      "cell_type": "markdown",
      "source": [
        "Save you database, you will need it for your project."
      ],
      "metadata": {
        "id": "Xh_DS7P6dOAT"
      }
    },
    {
      "cell_type": "code",
      "execution_count": null,
      "metadata": {
        "id": "DwiTFgWTBiO6"
      },
      "outputs": [],
      "source": [
        "annoy_index.save('rec_imdb.ann')"
      ]
    },
    {
      "cell_type": "markdown",
      "metadata": {
        "id": "nOsEu26KqDst"
      },
      "source": [
        "# Collaborative filtering"
      ]
    },
    {
      "cell_type": "markdown",
      "metadata": {
        "id": "-cWqD4MV6fi-"
      },
      "source": [
        "### Item-Item\n",
        "\n",
        "Item-item collaborative filtering, is a form of collaborative filtering for recommender systems based on the similarity between items calculated using people's ratings.\n",
        "For sake of simplicity, in this practical session, we will only focus on item-item similarity methods.\n",
        "If you have time, feel free to try an user-item approach. The following [blog post](https://notebook.community/saksham/recommender-systems/Collaborative%20Filtering) may help you to do it."
      ]
    },
    {
      "cell_type": "markdown",
      "metadata": {
        "id": "F_Xl2hH6z5eX"
      },
      "source": [
        "We will use another dataset containing the ratings of several users on movies."
      ]
    },
    {
      "cell_type": "code",
      "execution_count": null,
      "metadata": {
        "id": "TCAmkwCvpX_-"
      },
      "outputs": [],
      "source": [
        "!wget https://raw.githubusercontent.com/wikistat/AI-Frameworks/master/RecomendationSystem/movielens_small/movies.csv\n",
        "!wget https://raw.githubusercontent.com/wikistat/AI-Frameworks/master/RecomendationSystem/movielens_small/ratings.csv"
      ]
    },
    {
      "cell_type": "code",
      "execution_count": null,
      "metadata": {
        "id": "2yik0HALDKnt"
      },
      "outputs": [],
      "source": [
        "ratings = pd.read_csv('ratings.csv')\n",
        "ratings = ratings.rename(columns={'movieId':'id'})\n",
        "ratings['id'] = pd.to_numeric(ratings['id'])\n",
        "ratings = pd.merge(ratings, metadata[['title', 'id']], on='id')[['userId', 'id', 'rating', 'title']]\n",
        "ratings.head()"
      ]
    },
    {
      "cell_type": "code",
      "execution_count": null,
      "metadata": {
        "id": "WT5X5aV20FQ7"
      },
      "outputs": [],
      "source": [
        "ratings.shape"
      ]
    },
    {
      "cell_type": "markdown",
      "metadata": {
        "id": "E9Ox7f-q0IK2"
      },
      "source": [
        "This dataset is a bit huge and may slow down futur computations. Moreover collaborative filtering kind of suffers from products or user with few ratings.\n",
        "We will only focus on the 100 movies with the most ratings and the users with the highest number of ratings."
      ]
    },
    {
      "cell_type": "code",
      "execution_count": null,
      "metadata": {
        "id": "eeoIwtXZEjQi"
      },
      "outputs": [],
      "source": [
        "# filter movies\n",
        "ratings['count'] = ratings.groupby('id').transform('count')['userId']\n",
        "movieId = ratings.drop_duplicates('id').sort_values(\n",
        "    'count', ascending=False).iloc[:200]['id']\n",
        "ratings = ratings[ratings['id'].isin(movieId)].reset_index(drop=True)\n",
        "\n",
        "#filter users\n",
        "ratings['count'] = ratings.groupby('userId').transform('count')['id']\n",
        "userId = ratings.drop_duplicates('userId').sort_values(\n",
        "    'count', ascending=False).iloc[:20001]['userId']\n",
        "ratings = ratings[ratings['userId'].isin(userId)].reset_index(drop=True)\n",
        "\n",
        "ratings.shape"
      ]
    },
    {
      "cell_type": "code",
      "execution_count": null,
      "metadata": {
        "id": "W3QZ374mZZKx"
      },
      "outputs": [],
      "source": [
        "ratings.head()"
      ]
    },
    {
      "cell_type": "code",
      "execution_count": null,
      "metadata": {
        "id": "nCQaIr9TGtBB"
      },
      "outputs": [],
      "source": [
        "ratings.title.unique()[:100]"
      ]
    },
    {
      "cell_type": "markdown",
      "metadata": {
        "id": "Egk9md1V1gUx"
      },
      "source": [
        "Now, we need to build a pivot table with user in lines, movies in columns and ratings as values.  \n",
        "Use pandas [pivot_table](https://pandas.pydata.org/docs/reference/api/pandas.pivot_table.html) method to create this pivot table."
      ]
    },
    {
      "cell_type": "code",
      "execution_count": null,
      "metadata": {
        "id": "4YcyuTdh2_9y"
      },
      "outputs": [],
      "source": [
        "pivot = ...\n",
        "pivot.head(100)"
      ]
    },
    {
      "cell_type": "markdown",
      "metadata": {
        "id": "aUgKWd4p2M9X"
      },
      "source": [
        "With this pivot table, it is now easy to compute the similarity between movies.\n",
        "Indeed each movie can be represented by a vector of the users' ratings.\n",
        "Instead of using a cosine similarity distance as we did earlier in the notebook, we will use the Pearson correlation score since it is already implemented in Pandas.\n",
        "The pivot table has a method [```corrwith```](https://pandas.pydata.org/docs/reference/api/pandas.DataFrame.corrwith.html) that will return the Pairwise correlation score of one entry with all entries of the table."
      ]
    },
    {
      "cell_type": "code",
      "execution_count": null,
      "metadata": {
        "id": "1Y-jHNCu3lyS"
      },
      "outputs": [],
      "source": [
        "movie_vector = pivot[\"Titanic\"]\n",
        "similarity = pivot.corrwith(movie_vector)\n",
        "..."
      ]
    },
    {
      "cell_type": "markdown",
      "metadata": {
        "id": "ont3FZJw38xb"
      },
      "source": [
        "Sort the produced results to get the best recommendations to \"Titanic\".\n",
        "You may also try with different movies."
      ]
    },
    {
      "cell_type": "markdown",
      "metadata": {
        "id": "AUHPO2SY4TPz"
      },
      "source": [
        "## Matrix factorization\n",
        "Matrix factorization is certainly one of the most efficient way to build a recomender system. I really encourage you to have a look to [this article](https://datajobs.com/data-science-repo/Recommender-Systems-%5BNetflix%5D.pdf) presenting the matrix factorization techniques used in recommender systems.\n",
        "\n",
        "The idea is pretty simple, it consists in factorizing the ratings matrix $R$ into the product of a user embedding matrix $U$ and an item embedding matrix $V$, such that $R \\approx UV^\\top$ with\n",
        "$U = \\begin{bmatrix} u_{1} \\\\ \\hline \\vdots \\\\ \\hline u_{N} \\end{bmatrix}$ and\n",
        "$V = \\begin{bmatrix} v_{1} \\\\ \\hline \\vdots \\\\ \\hline v_{M} \\end{bmatrix}$.\n",
        "\n",
        "Where\n",
        "- $N$ is the number of users,\n",
        "- $M$ is the number of items,\n",
        "- $R_{ij}$ is the rating of the $j$th item by the $i$th user,\n",
        "- each row $U_i$ is a $d$-dimensional vector (embedding) representing user $i$,\n",
        "- each row $V_j$ is a $d$-dimensional vector (embedding) representing item $j$,\n",
        "\n",
        "\n",
        "One these emmbeding matrices are built, predicting the rating of an user $i$ for an item $j$ consists in computing the dot product $\\langle U_i, V_j \\rangle$."
      ]
    },
    {
      "cell_type": "markdown",
      "metadata": {
        "id": "YynGarm57S4t"
      },
      "source": [
        "### Using surpise\n",
        "\n",
        "![](https://drive.google.com/uc?export=view&id=1dh2RJ95F0j-rZyuf59G35239B42veAWD)\n",
        "\n",
        "We will begin by using the famous Singular Value Decomposition method.\n",
        "Several libraries implement this algorithm.\n",
        "In this session, we will be using [Surprise](http://surpriselib.com/).\n",
        "Surprise is a recommender system library implemented in Python.\n",
        "It was actually developed by [Nicolas Hug](http://nicolas-hug.com/about) an INSA Toulouse Alumni!"
      ]
    },
    {
      "cell_type": "code",
      "execution_count": null,
      "metadata": {
        "id": "o_ZZ7J-8YHiF"
      },
      "outputs": [],
      "source": [
        "!pip install scikit-surprise"
      ]
    },
    {
      "cell_type": "markdown",
      "metadata": {
        "id": "V8wLyUJXPMtf"
      },
      "source": [
        "Surprise implements the SVD algorithm.  Help yourself with [the doc](https://surprise.readthedocs.io/en/stable/getting_started.html) to train an SVD model on the rating dataset."
      ]
    },
    {
      "cell_type": "code",
      "execution_count": null,
      "metadata": {
        "id": "CuPtL9WcPeKu"
      },
      "outputs": [],
      "source": [
        "#Creating a train and a test set\n",
        "testset = ratings.sample(frac=0.1, replace=False)\n",
        "trainset = ratings[~ratings.index.isin(testset.index)]\n",
        "\n",
        "assert set(testset.userId.unique()).issubset(trainset.userId.unique())\n",
        "assert set(testset.id.unique()).issubset(trainset.id.unique())"
      ]
    },
    {
      "cell_type": "code",
      "execution_count": null,
      "metadata": {
        "id": "MiSBnIgdX-7U"
      },
      "outputs": [],
      "source": [
        "from surprise import Reader, Dataset, SVD\n",
        "from surprise.model_selection import cross_validate"
      ]
    },
    {
      "cell_type": "code",
      "execution_count": null,
      "metadata": {
        "id": "N186i9amYSfA"
      },
      "outputs": [],
      "source": [
        "reader = ...\n",
        "data = Dataset.load_from_df(ratings[['userId', 'id', 'rating']].fillna(0), reader)\n",
        "svd = ...\n",
        "\n",
        "# Run 5-fold cross-validation and print results.\n",
        "..."
      ]
    },
    {
      "cell_type": "code",
      "execution_count": null,
      "metadata": {
        "id": "ty9A91JqZLFA"
      },
      "outputs": [],
      "source": [
        "#full dataset training\n",
        "svd = SVD()\n",
        "s_trainset = data.build_full_trainset()\n",
        "svd.fit(s_trainset)"
      ]
    },
    {
      "cell_type": "markdown",
      "metadata": {
        "id": "yFF62xdcB88T"
      },
      "source": [
        "Let us look some ratings for one user in the test dataset."
      ]
    },
    {
      "cell_type": "code",
      "execution_count": null,
      "metadata": {
        "id": "lCcwZ4JEaGUC"
      },
      "outputs": [],
      "source": [
        "testset[testset['userId'] == 24]"
      ]
    },
    {
      "cell_type": "markdown",
      "metadata": {
        "id": "EVfO7wKXCDV0"
      },
      "source": [
        "What would your model predict for these exemples?"
      ]
    },
    {
      "cell_type": "code",
      "execution_count": null,
      "metadata": {
        "id": "sybGFavmZtT0"
      },
      "outputs": [],
      "source": [
        "uid = 24\n",
        "iid = ...\n",
        "\n",
        "svd.predict(uid, iid)"
      ]
    },
    {
      "cell_type": "markdown",
      "metadata": {
        "id": "LWUTZcYbcIUY"
      },
      "source": [
        "Write a code to recommend 5 movies to an user."
      ]
    },
    {
      "cell_type": "markdown",
      "metadata": {
        "id": "wYbnpl6sQvRR"
      },
      "source": [
        "### Using gradient descent\n",
        "Another way to compute the matrix factorization consists in using gradient descent to minimize $\\text{MSE}(R, UV^\\top)$ where:\n",
        "\n",
        "$$\n",
        "\\begin{align*}\n",
        "\\text{MSE}(A, UV^\\top)\n",
        "&= \\frac{1}{|\\Omega|}\\sum_{(i, j) \\in\\Omega}{( R_{ij} - (UV^\\top)_{ij})^2} \\\\\n",
        "&= \\frac{1}{|\\Omega|}\\sum_{(i, j) \\in\\Omega}{( R_{ij} - \\langle U_i, V_j\\rangle)^2}\n",
        "\\end{align*}\n",
        "$$\n",
        "where $\\Omega$ is the set of observed ratings, and $|\\Omega|$ is the cardinality of $\\Omega$.\n",
        "\n",
        "We will now implement our own matrix factorization algorith using Pytorch.  \n",
        "To do so we first need to convert our ratings datasets in Pytorch datasets."
      ]
    },
    {
      "cell_type": "code",
      "execution_count": null,
      "metadata": {
        "id": "ES41z_Q__taJ"
      },
      "outputs": [],
      "source": [
        "import torch\n",
        "from torch.utils.data import Dataset, DataLoader\n",
        "\n",
        "user_list = trainset.userId.unique()\n",
        "item_list = trainset.id.unique()\n",
        "user2id = {w: i for i, w in enumerate(user_list)}\n",
        "item2id = {w: i for i, w in enumerate(item_list)}\n",
        "\n",
        "class Ratings_Datset(Dataset):\n",
        "    def __init__(self, df):\n",
        "        self.df = df.reset_index()\n",
        "\n",
        "    def __len__(self):\n",
        "        return len(self.df)\n",
        "\n",
        "    def __getitem__(self, idx):\n",
        "        user = user2id[self.df['userId'][idx]]\n",
        "        user = torch.tensor(user, dtype=torch.long)\n",
        "        item = item2id[self.df['id'][idx]]\n",
        "        item = torch.tensor(item, dtype=torch.long)\n",
        "        rating = torch.tensor(self.df['rating'][idx], dtype=torch.float)\n",
        "        return user, item, rating\n",
        "\n",
        "\n",
        "trainloader = DataLoader(Ratings_Datset(trainset), batch_size=512, shuffle=True ,num_workers=2)\n",
        "testloader = DataLoader(Ratings_Datset(testset), batch_size=64, num_workers=2)"
      ]
    },
    {
      "cell_type": "markdown",
      "metadata": {
        "id": "rIaZBIqpZIZA"
      },
      "source": [
        "These dataloader will provide mini-batches of tuples <user, movie, rating>.\n",
        "We will use a special type of Pytorch layers call [Embedding](https://pytorch.org/docs/stable/generated/torch.nn.Embedding.html).\n",
        "These layers will create a mapping between an index and a vector representation.\n",
        "In our case they will provide vector representations of our users and items.\n",
        "We will train the matrix factorization model to minimize the prediction error between a rating and the dot product of an user embedding with a movie embedding.\n",
        "![](https://drive.google.com/uc?export=view&id=1wSQbcSN_I28mF74-wnb8_qjAzRH9YDjA)\n",
        "\n",
        "Complete the following code to implement the ```MatrixFactorization``` class in Pytorch."
      ]
    },
    {
      "cell_type": "code",
      "execution_count": null,
      "metadata": {
        "id": "6f1g_NCiFCLC"
      },
      "outputs": [],
      "source": [
        "import torch\n",
        "\n",
        "class MatrixFactorization(torch.nn.Module):\n",
        "    def __init__(self, n_users, n_items, n_factors=20):\n",
        "        super().__init__()\n",
        "        self.user_embeddings = ...\n",
        "        self.item_embeddings = ...\n",
        "\n",
        "    def forward(self, user, item):\n",
        "        return torch.mul(self.user_embeddings(user), self.item_embeddings(item)).sum(1)\n",
        "        #return (self.user_embeddings(user)*self.item_embeddings(item)).sum(1)"
      ]
    },
    {
      "cell_type": "markdown",
      "metadata": {
        "id": "zQKw2KyztCOa"
      },
      "source": [
        "Complete the training method that we will use to train the network."
      ]
    },
    {
      "cell_type": "code",
      "execution_count": null,
      "metadata": {
        "id": "ARev-51UGzDc"
      },
      "outputs": [],
      "source": [
        "from tqdm.notebook import tqdm\n",
        "import torch\n",
        "import torch.nn as nn\n",
        "from statistics import mean\n",
        "\n",
        "\n",
        "def train(model, optimizer, trainloader, epochs=30):\n",
        "    criterion = nn.MSELoss(reduction='mean')\n",
        "    t = tqdm(range(epochs))\n",
        "    for epoch in t:\n",
        "        total = 0\n",
        "        train_loss = []\n",
        "        for users, items, r in trainloader:\n",
        "            users = users.cuda()\n",
        "            items = items.cuda()\n",
        "            r = r.cuda() / 5\n",
        "            r = r.unsqueeze(1)\n",
        "            y_hat = ...\n",
        "            loss = ...\n",
        "            train_loss.append(loss.item())\n",
        "            total += r.size(0)\n",
        "            ...\n",
        "            ...\n",
        "            ...\n",
        "            t.set_description(f\"loss: {mean(train_loss)}\")"
      ]
    },
    {
      "cell_type": "markdown",
      "metadata": {
        "id": "A6s_pnyStNM-"
      },
      "source": [
        "We now have everything to train our model.\n",
        "Train your model for 5 to 10 epochs."
      ]
    },
    {
      "cell_type": "code",
      "execution_count": null,
      "metadata": {
        "id": "SxJCX-TH8qeG"
      },
      "outputs": [],
      "source": [
        "n_user = trainset.userId.nunique()\n",
        "n_items = trainset.id.nunique()\n",
        "model = MatrixFactorization(n_user, n_items).cuda()\n",
        "optimizer = torch.optim.Adam(model.parameters(), lr=1e-3)\n",
        "train(model, optimizer, trainloader, epochs=5)"
      ]
    },
    {
      "cell_type": "markdown",
      "metadata": {
        "id": "_8SJN4nM8ePO"
      },
      "source": [
        "Complete the following code to evaluate your model."
      ]
    },
    {
      "cell_type": "code",
      "execution_count": null,
      "metadata": {
        "id": "ubxaMOTHuGgi"
      },
      "outputs": [],
      "source": [
        "import math\n",
        "\n",
        "def test(model, testloader):\n",
        "\n",
        "\n",
        "    running_mae = 0\n",
        "    with torch.no_grad():\n",
        "        total = 0\n",
        "        for users, items, r in testloader:\n",
        "            users = users.cuda()\n",
        "            items = items.cuda()\n",
        "            y = r.cuda() / 5\n",
        "            y_hat = ...\n",
        "            error = ...\n",
        "\n",
        "            running_mae += error\n",
        "            total += y.size(0)\n",
        "\n",
        "    mae = running_mae/total\n",
        "    return mae * 5\n",
        "\n",
        "\n",
        "test(model, testloader)"
      ]
    },
    {
      "cell_type": "markdown",
      "metadata": {
        "id": "8g1WpW_n8p1K"
      },
      "source": [
        "Try to compare the predictions of your model with actual ratings."
      ]
    },
    {
      "cell_type": "code",
      "execution_count": null,
      "metadata": {
        "id": "tny5-w5kMZuJ"
      },
      "outputs": [],
      "source": [
        "users, movies, r = next(iter(testloader))\n",
        "users = users.cuda()\n",
        "movies = movies.cuda()\n",
        "r = r.cuda()\n",
        "\n",
        "y = model(users, movies)*5\n",
        "print(\"ratings\", r[:10].data)\n",
        "print(\"predictions:\", y.flatten()[:10].data)"
      ]
    },
    {
      "cell_type": "markdown",
      "metadata": {
        "id": "LhJKjaZ_x_NQ"
      },
      "source": [
        "We just trained a matrix factorization algorithm using Pytorch.\n",
        "In this setting, the final prediction was made with the dot product of our embeddings.\n",
        "Actually with a minimal modification of the Class, we could create a full neural network.\n",
        "If we replace the dot product with a fully-connected network, we would actually have an end-to-end neural network able to predict the ratings of our users.\n",
        "![](https://drive.google.com/uc?export=view&id=1THBMB-Z3db0Rn0dyYYWhN98AHcYEM-nT)  \n",
        "This approach is called Neural Collaborative Filtering and is presented in this [paper](https://arxiv.org/pdf/1708.05031.pdf).\n",
        "Try to fill in the following code to create an NCF network.\n",
        "\n"
      ]
    },
    {
      "cell_type": "code",
      "execution_count": null,
      "metadata": {
        "id": "nQa2cusiWbet"
      },
      "outputs": [],
      "source": [
        "class NCF(nn.Module):\n",
        "\n",
        "    def __init__(self, n_users, n_items, n_factors=8):\n",
        "        super().__init__()\n",
        "        self.user_embeddings = torch.nn.Embedding(n_users, n_factors)\n",
        "        self.item_embeddings = torch.nn.Embedding(n_items, n_factors)\n",
        "        self.predictor = torch.nn.Sequential(\n",
        "            ...\n",
        "            nn.Sigmoid()\n",
        "        )\n",
        "\n",
        "\n",
        "    def forward(self, user, item):\n",
        "\n",
        "\n",
        "        u = self.user_embeddings(user)\n",
        "        i = self.item_embeddings(item)\n",
        "\n",
        "        # Concat the two embedding layers\n",
        "        z = torch.cat([u, i], dim=-1)\n",
        "        return ..."
      ]
    },
    {
      "cell_type": "markdown",
      "metadata": {
        "id": "5NhrFlrT-zef"
      },
      "source": [
        "Train your NCF network on the train dataset and test it on the test dataset."
      ]
    },
    {
      "cell_type": "code",
      "execution_count": null,
      "metadata": {
        "id": "-0dFPQrWa3bZ"
      },
      "outputs": [],
      "source": [
        "model = NCF(n_user, n_items).cuda()\n",
        "optimizer = torch.optim.Adam(model.parameters(), lr=1e-3)\n",
        "train(model, optimizer, trainloader, epochs=5)"
      ]
    },
    {
      "cell_type": "code",
      "execution_count": null,
      "metadata": {
        "id": "DlfbVGeG5Hwf"
      },
      "outputs": [],
      "source": [
        "test(model, testloader)"
      ]
    },
    {
      "cell_type": "code",
      "execution_count": null,
      "metadata": {
        "id": "gXWXO0ex7WZI"
      },
      "outputs": [],
      "source": [
        "users, movies, r = next(iter(testloader))\n",
        "users = users.cuda()\n",
        "movies = movies.cuda()\n",
        "r = r.cuda()\n",
        "\n",
        "y = model(users, movies)*5\n",
        "print(\"ratings\", r[:10].data)\n",
        "print(\"predictions:\", y.flatten()[:10].data)"
      ]
    },
    {
      "cell_type": "markdown",
      "metadata": {
        "id": "dxSeYI6AqmMd"
      },
      "source": [
        "### Implicit feedback with pytorch\n",
        "\n",
        "In this practical session, we only worked with explicit feedbacks (ratings).\n",
        "Sometimes you do not have access to such quantitative feedback and have to deal with implicit feedback.\n",
        "An implicit feedback is a user's qualitative interaction with an item, such as clicking on an item (positive feedback) or stopping watching a video (negative feedback).\n",
        "If you are interested in neural collaborative filtering in the case of implicit feedback, I recommend you look at this [excellent tutorial](https://sparsh-ai.github.io/rec-tutorials/matrixfactorization%20movielens%20pytorch%20scratch/2021/04/21/rec-algo-ncf-pytorch-pyy0715.html)."
      ]
    }
  ],
  "metadata": {
    "accelerator": "GPU",
    "colab": {
      "gpuType": "T4",
      "provenance": [],
      "toc_visible": true
    },
    "kernelspec": {
      "display_name": "Python 3",
      "name": "python3"
    },
    "language_info": {
      "name": "python",
      "version": "3.10.12"
    },
    "vscode": {
      "interpreter": {
        "hash": "31f2aee4e71d21fbe5cf8b01ff0e069b9275f58929596ceb00d14d90e3e16cd6"
      }
    }
  },
  "nbformat": 4,
  "nbformat_minor": 0
}